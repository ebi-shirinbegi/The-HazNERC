{
  "nbformat": 4,
  "nbformat_minor": 0,
  "metadata": {
    "language_info": {
      "codemirror_mode": {
        "name": "ipython",
        "version": 3
      },
      "file_extension": ".py",
      "mimetype": "text/x-python",
      "name": "python",
      "nbconvert_exporter": "python",
      "pygments_lexer": "ipython3",
      "version": "3.8.3-final"
    },
    "orig_nbformat": 2,
    "kernelspec": {
      "name": "python3",
      "display_name": "Python 3.8.3 64-bit ('3.8.3')",
      "metadata": {
        "interpreter": {
          "hash": "d0870ed645fb27f1bd390e6a2c2d97d636644e4ac17d9620d795cd4fea4e8862"
        }
      }
    },
    "colab": {
      "provenance": [],
      "toc_visible": true
    },
    "widgets": {
      "application/vnd.jupyter.widget-state+json": {
        "94e3c2181ce14483a6b5627d7df76b68": {
          "model_module": "@jupyter-widgets/controls",
          "model_name": "HBoxModel",
          "model_module_version": "1.5.0",
          "state": {
            "_dom_classes": [],
            "_model_module": "@jupyter-widgets/controls",
            "_model_module_version": "1.5.0",
            "_model_name": "HBoxModel",
            "_view_count": null,
            "_view_module": "@jupyter-widgets/controls",
            "_view_module_version": "1.5.0",
            "_view_name": "HBoxView",
            "box_style": "",
            "children": [
              "IPY_MODEL_b65576cd6c834184817da25f2cd2e342",
              "IPY_MODEL_942b8e69f41c4c29b93c774b8c114f8e",
              "IPY_MODEL_1d57c97cda8547fd94c1302dec37ce98"
            ],
            "layout": "IPY_MODEL_2e9b0f07992748fc928adad7e4ea927a"
          }
        },
        "b65576cd6c834184817da25f2cd2e342": {
          "model_module": "@jupyter-widgets/controls",
          "model_name": "HTMLModel",
          "model_module_version": "1.5.0",
          "state": {
            "_dom_classes": [],
            "_model_module": "@jupyter-widgets/controls",
            "_model_module_version": "1.5.0",
            "_model_name": "HTMLModel",
            "_view_count": null,
            "_view_module": "@jupyter-widgets/controls",
            "_view_module_version": "1.5.0",
            "_view_name": "HTMLView",
            "description": "",
            "description_tooltip": null,
            "layout": "IPY_MODEL_4fa8fd5dc79442208ffc3a7de2887a97",
            "placeholder": "​",
            "style": "IPY_MODEL_197910b54a7d4231ae0170afecad3f8f",
            "value": "tokenizer_config.json: 100%"
          }
        },
        "942b8e69f41c4c29b93c774b8c114f8e": {
          "model_module": "@jupyter-widgets/controls",
          "model_name": "FloatProgressModel",
          "model_module_version": "1.5.0",
          "state": {
            "_dom_classes": [],
            "_model_module": "@jupyter-widgets/controls",
            "_model_module_version": "1.5.0",
            "_model_name": "FloatProgressModel",
            "_view_count": null,
            "_view_module": "@jupyter-widgets/controls",
            "_view_module_version": "1.5.0",
            "_view_name": "ProgressView",
            "bar_style": "success",
            "description": "",
            "description_tooltip": null,
            "layout": "IPY_MODEL_4ddb7ff22e914aa48e91778009977f12",
            "max": 62,
            "min": 0,
            "orientation": "horizontal",
            "style": "IPY_MODEL_055ce861cdc64c9b9ef60279bb6a4182",
            "value": 62
          }
        },
        "1d57c97cda8547fd94c1302dec37ce98": {
          "model_module": "@jupyter-widgets/controls",
          "model_name": "HTMLModel",
          "model_module_version": "1.5.0",
          "state": {
            "_dom_classes": [],
            "_model_module": "@jupyter-widgets/controls",
            "_model_module_version": "1.5.0",
            "_model_name": "HTMLModel",
            "_view_count": null,
            "_view_module": "@jupyter-widgets/controls",
            "_view_module_version": "1.5.0",
            "_view_name": "HTMLView",
            "description": "",
            "description_tooltip": null,
            "layout": "IPY_MODEL_96518bb4731e456ca20f9e3cab694ca2",
            "placeholder": "​",
            "style": "IPY_MODEL_55655494a1d24ee3b509c8f6e57df7f0",
            "value": " 62.0/62.0 [00:00&lt;00:00, 2.96kB/s]"
          }
        },
        "2e9b0f07992748fc928adad7e4ea927a": {
          "model_module": "@jupyter-widgets/base",
          "model_name": "LayoutModel",
          "model_module_version": "1.2.0",
          "state": {
            "_model_module": "@jupyter-widgets/base",
            "_model_module_version": "1.2.0",
            "_model_name": "LayoutModel",
            "_view_count": null,
            "_view_module": "@jupyter-widgets/base",
            "_view_module_version": "1.2.0",
            "_view_name": "LayoutView",
            "align_content": null,
            "align_items": null,
            "align_self": null,
            "border": null,
            "bottom": null,
            "display": null,
            "flex": null,
            "flex_flow": null,
            "grid_area": null,
            "grid_auto_columns": null,
            "grid_auto_flow": null,
            "grid_auto_rows": null,
            "grid_column": null,
            "grid_gap": null,
            "grid_row": null,
            "grid_template_areas": null,
            "grid_template_columns": null,
            "grid_template_rows": null,
            "height": null,
            "justify_content": null,
            "justify_items": null,
            "left": null,
            "margin": null,
            "max_height": null,
            "max_width": null,
            "min_height": null,
            "min_width": null,
            "object_fit": null,
            "object_position": null,
            "order": null,
            "overflow": null,
            "overflow_x": null,
            "overflow_y": null,
            "padding": null,
            "right": null,
            "top": null,
            "visibility": null,
            "width": null
          }
        },
        "4fa8fd5dc79442208ffc3a7de2887a97": {
          "model_module": "@jupyter-widgets/base",
          "model_name": "LayoutModel",
          "model_module_version": "1.2.0",
          "state": {
            "_model_module": "@jupyter-widgets/base",
            "_model_module_version": "1.2.0",
            "_model_name": "LayoutModel",
            "_view_count": null,
            "_view_module": "@jupyter-widgets/base",
            "_view_module_version": "1.2.0",
            "_view_name": "LayoutView",
            "align_content": null,
            "align_items": null,
            "align_self": null,
            "border": null,
            "bottom": null,
            "display": null,
            "flex": null,
            "flex_flow": null,
            "grid_area": null,
            "grid_auto_columns": null,
            "grid_auto_flow": null,
            "grid_auto_rows": null,
            "grid_column": null,
            "grid_gap": null,
            "grid_row": null,
            "grid_template_areas": null,
            "grid_template_columns": null,
            "grid_template_rows": null,
            "height": null,
            "justify_content": null,
            "justify_items": null,
            "left": null,
            "margin": null,
            "max_height": null,
            "max_width": null,
            "min_height": null,
            "min_width": null,
            "object_fit": null,
            "object_position": null,
            "order": null,
            "overflow": null,
            "overflow_x": null,
            "overflow_y": null,
            "padding": null,
            "right": null,
            "top": null,
            "visibility": null,
            "width": null
          }
        },
        "197910b54a7d4231ae0170afecad3f8f": {
          "model_module": "@jupyter-widgets/controls",
          "model_name": "DescriptionStyleModel",
          "model_module_version": "1.5.0",
          "state": {
            "_model_module": "@jupyter-widgets/controls",
            "_model_module_version": "1.5.0",
            "_model_name": "DescriptionStyleModel",
            "_view_count": null,
            "_view_module": "@jupyter-widgets/base",
            "_view_module_version": "1.2.0",
            "_view_name": "StyleView",
            "description_width": ""
          }
        },
        "4ddb7ff22e914aa48e91778009977f12": {
          "model_module": "@jupyter-widgets/base",
          "model_name": "LayoutModel",
          "model_module_version": "1.2.0",
          "state": {
            "_model_module": "@jupyter-widgets/base",
            "_model_module_version": "1.2.0",
            "_model_name": "LayoutModel",
            "_view_count": null,
            "_view_module": "@jupyter-widgets/base",
            "_view_module_version": "1.2.0",
            "_view_name": "LayoutView",
            "align_content": null,
            "align_items": null,
            "align_self": null,
            "border": null,
            "bottom": null,
            "display": null,
            "flex": null,
            "flex_flow": null,
            "grid_area": null,
            "grid_auto_columns": null,
            "grid_auto_flow": null,
            "grid_auto_rows": null,
            "grid_column": null,
            "grid_gap": null,
            "grid_row": null,
            "grid_template_areas": null,
            "grid_template_columns": null,
            "grid_template_rows": null,
            "height": null,
            "justify_content": null,
            "justify_items": null,
            "left": null,
            "margin": null,
            "max_height": null,
            "max_width": null,
            "min_height": null,
            "min_width": null,
            "object_fit": null,
            "object_position": null,
            "order": null,
            "overflow": null,
            "overflow_x": null,
            "overflow_y": null,
            "padding": null,
            "right": null,
            "top": null,
            "visibility": null,
            "width": null
          }
        },
        "055ce861cdc64c9b9ef60279bb6a4182": {
          "model_module": "@jupyter-widgets/controls",
          "model_name": "ProgressStyleModel",
          "model_module_version": "1.5.0",
          "state": {
            "_model_module": "@jupyter-widgets/controls",
            "_model_module_version": "1.5.0",
            "_model_name": "ProgressStyleModel",
            "_view_count": null,
            "_view_module": "@jupyter-widgets/base",
            "_view_module_version": "1.2.0",
            "_view_name": "StyleView",
            "bar_color": null,
            "description_width": ""
          }
        },
        "96518bb4731e456ca20f9e3cab694ca2": {
          "model_module": "@jupyter-widgets/base",
          "model_name": "LayoutModel",
          "model_module_version": "1.2.0",
          "state": {
            "_model_module": "@jupyter-widgets/base",
            "_model_module_version": "1.2.0",
            "_model_name": "LayoutModel",
            "_view_count": null,
            "_view_module": "@jupyter-widgets/base",
            "_view_module_version": "1.2.0",
            "_view_name": "LayoutView",
            "align_content": null,
            "align_items": null,
            "align_self": null,
            "border": null,
            "bottom": null,
            "display": null,
            "flex": null,
            "flex_flow": null,
            "grid_area": null,
            "grid_auto_columns": null,
            "grid_auto_flow": null,
            "grid_auto_rows": null,
            "grid_column": null,
            "grid_gap": null,
            "grid_row": null,
            "grid_template_areas": null,
            "grid_template_columns": null,
            "grid_template_rows": null,
            "height": null,
            "justify_content": null,
            "justify_items": null,
            "left": null,
            "margin": null,
            "max_height": null,
            "max_width": null,
            "min_height": null,
            "min_width": null,
            "object_fit": null,
            "object_position": null,
            "order": null,
            "overflow": null,
            "overflow_x": null,
            "overflow_y": null,
            "padding": null,
            "right": null,
            "top": null,
            "visibility": null,
            "width": null
          }
        },
        "55655494a1d24ee3b509c8f6e57df7f0": {
          "model_module": "@jupyter-widgets/controls",
          "model_name": "DescriptionStyleModel",
          "model_module_version": "1.5.0",
          "state": {
            "_model_module": "@jupyter-widgets/controls",
            "_model_module_version": "1.5.0",
            "_model_name": "DescriptionStyleModel",
            "_view_count": null,
            "_view_module": "@jupyter-widgets/base",
            "_view_module_version": "1.2.0",
            "_view_name": "StyleView",
            "description_width": ""
          }
        },
        "94107b754bec4f588b93074821a84d0b": {
          "model_module": "@jupyter-widgets/controls",
          "model_name": "HBoxModel",
          "model_module_version": "1.5.0",
          "state": {
            "_dom_classes": [],
            "_model_module": "@jupyter-widgets/controls",
            "_model_module_version": "1.5.0",
            "_model_name": "HBoxModel",
            "_view_count": null,
            "_view_module": "@jupyter-widgets/controls",
            "_view_module_version": "1.5.0",
            "_view_name": "HBoxView",
            "box_style": "",
            "children": [
              "IPY_MODEL_590bdefec8f9441bab4e76d4854c8ab8",
              "IPY_MODEL_81df77fc415f4ac290b99ba9e7527aed",
              "IPY_MODEL_ac12ffc4eb33479eb4ad7fb14e1f80f0"
            ],
            "layout": "IPY_MODEL_0ffb5ae5898c47fbb8bf9f20d7dba641"
          }
        },
        "590bdefec8f9441bab4e76d4854c8ab8": {
          "model_module": "@jupyter-widgets/controls",
          "model_name": "HTMLModel",
          "model_module_version": "1.5.0",
          "state": {
            "_dom_classes": [],
            "_model_module": "@jupyter-widgets/controls",
            "_model_module_version": "1.5.0",
            "_model_name": "HTMLModel",
            "_view_count": null,
            "_view_module": "@jupyter-widgets/controls",
            "_view_module_version": "1.5.0",
            "_view_name": "HTMLView",
            "description": "",
            "description_tooltip": null,
            "layout": "IPY_MODEL_30a65bc8ed674ab9af02aa4f2fa6fbc1",
            "placeholder": "​",
            "style": "IPY_MODEL_ae91675bacdd416c9f9de8cb27917ba0",
            "value": "config.json: 100%"
          }
        },
        "81df77fc415f4ac290b99ba9e7527aed": {
          "model_module": "@jupyter-widgets/controls",
          "model_name": "FloatProgressModel",
          "model_module_version": "1.5.0",
          "state": {
            "_dom_classes": [],
            "_model_module": "@jupyter-widgets/controls",
            "_model_module_version": "1.5.0",
            "_model_name": "FloatProgressModel",
            "_view_count": null,
            "_view_module": "@jupyter-widgets/controls",
            "_view_module_version": "1.5.0",
            "_view_name": "ProgressView",
            "bar_style": "success",
            "description": "",
            "description_tooltip": null,
            "layout": "IPY_MODEL_fbf077f643eb4bab8c3ac42ec03fc53b",
            "max": 1441,
            "min": 0,
            "orientation": "horizontal",
            "style": "IPY_MODEL_afcab9f03e2c4c85a6d68fb39c068790",
            "value": 1441
          }
        },
        "ac12ffc4eb33479eb4ad7fb14e1f80f0": {
          "model_module": "@jupyter-widgets/controls",
          "model_name": "HTMLModel",
          "model_module_version": "1.5.0",
          "state": {
            "_dom_classes": [],
            "_model_module": "@jupyter-widgets/controls",
            "_model_module_version": "1.5.0",
            "_model_name": "HTMLModel",
            "_view_count": null,
            "_view_module": "@jupyter-widgets/controls",
            "_view_module_version": "1.5.0",
            "_view_name": "HTMLView",
            "description": "",
            "description_tooltip": null,
            "layout": "IPY_MODEL_ab7b923e693e4d119d45774861bcb8da",
            "placeholder": "​",
            "style": "IPY_MODEL_0beeed9fb1194850a39ab5c18101d80a",
            "value": " 1.44k/1.44k [00:00&lt;00:00, 79.5kB/s]"
          }
        },
        "0ffb5ae5898c47fbb8bf9f20d7dba641": {
          "model_module": "@jupyter-widgets/base",
          "model_name": "LayoutModel",
          "model_module_version": "1.2.0",
          "state": {
            "_model_module": "@jupyter-widgets/base",
            "_model_module_version": "1.2.0",
            "_model_name": "LayoutModel",
            "_view_count": null,
            "_view_module": "@jupyter-widgets/base",
            "_view_module_version": "1.2.0",
            "_view_name": "LayoutView",
            "align_content": null,
            "align_items": null,
            "align_self": null,
            "border": null,
            "bottom": null,
            "display": null,
            "flex": null,
            "flex_flow": null,
            "grid_area": null,
            "grid_auto_columns": null,
            "grid_auto_flow": null,
            "grid_auto_rows": null,
            "grid_column": null,
            "grid_gap": null,
            "grid_row": null,
            "grid_template_areas": null,
            "grid_template_columns": null,
            "grid_template_rows": null,
            "height": null,
            "justify_content": null,
            "justify_items": null,
            "left": null,
            "margin": null,
            "max_height": null,
            "max_width": null,
            "min_height": null,
            "min_width": null,
            "object_fit": null,
            "object_position": null,
            "order": null,
            "overflow": null,
            "overflow_x": null,
            "overflow_y": null,
            "padding": null,
            "right": null,
            "top": null,
            "visibility": null,
            "width": null
          }
        },
        "30a65bc8ed674ab9af02aa4f2fa6fbc1": {
          "model_module": "@jupyter-widgets/base",
          "model_name": "LayoutModel",
          "model_module_version": "1.2.0",
          "state": {
            "_model_module": "@jupyter-widgets/base",
            "_model_module_version": "1.2.0",
            "_model_name": "LayoutModel",
            "_view_count": null,
            "_view_module": "@jupyter-widgets/base",
            "_view_module_version": "1.2.0",
            "_view_name": "LayoutView",
            "align_content": null,
            "align_items": null,
            "align_self": null,
            "border": null,
            "bottom": null,
            "display": null,
            "flex": null,
            "flex_flow": null,
            "grid_area": null,
            "grid_auto_columns": null,
            "grid_auto_flow": null,
            "grid_auto_rows": null,
            "grid_column": null,
            "grid_gap": null,
            "grid_row": null,
            "grid_template_areas": null,
            "grid_template_columns": null,
            "grid_template_rows": null,
            "height": null,
            "justify_content": null,
            "justify_items": null,
            "left": null,
            "margin": null,
            "max_height": null,
            "max_width": null,
            "min_height": null,
            "min_width": null,
            "object_fit": null,
            "object_position": null,
            "order": null,
            "overflow": null,
            "overflow_x": null,
            "overflow_y": null,
            "padding": null,
            "right": null,
            "top": null,
            "visibility": null,
            "width": null
          }
        },
        "ae91675bacdd416c9f9de8cb27917ba0": {
          "model_module": "@jupyter-widgets/controls",
          "model_name": "DescriptionStyleModel",
          "model_module_version": "1.5.0",
          "state": {
            "_model_module": "@jupyter-widgets/controls",
            "_model_module_version": "1.5.0",
            "_model_name": "DescriptionStyleModel",
            "_view_count": null,
            "_view_module": "@jupyter-widgets/base",
            "_view_module_version": "1.2.0",
            "_view_name": "StyleView",
            "description_width": ""
          }
        },
        "fbf077f643eb4bab8c3ac42ec03fc53b": {
          "model_module": "@jupyter-widgets/base",
          "model_name": "LayoutModel",
          "model_module_version": "1.2.0",
          "state": {
            "_model_module": "@jupyter-widgets/base",
            "_model_module_version": "1.2.0",
            "_model_name": "LayoutModel",
            "_view_count": null,
            "_view_module": "@jupyter-widgets/base",
            "_view_module_version": "1.2.0",
            "_view_name": "LayoutView",
            "align_content": null,
            "align_items": null,
            "align_self": null,
            "border": null,
            "bottom": null,
            "display": null,
            "flex": null,
            "flex_flow": null,
            "grid_area": null,
            "grid_auto_columns": null,
            "grid_auto_flow": null,
            "grid_auto_rows": null,
            "grid_column": null,
            "grid_gap": null,
            "grid_row": null,
            "grid_template_areas": null,
            "grid_template_columns": null,
            "grid_template_rows": null,
            "height": null,
            "justify_content": null,
            "justify_items": null,
            "left": null,
            "margin": null,
            "max_height": null,
            "max_width": null,
            "min_height": null,
            "min_width": null,
            "object_fit": null,
            "object_position": null,
            "order": null,
            "overflow": null,
            "overflow_x": null,
            "overflow_y": null,
            "padding": null,
            "right": null,
            "top": null,
            "visibility": null,
            "width": null
          }
        },
        "afcab9f03e2c4c85a6d68fb39c068790": {
          "model_module": "@jupyter-widgets/controls",
          "model_name": "ProgressStyleModel",
          "model_module_version": "1.5.0",
          "state": {
            "_model_module": "@jupyter-widgets/controls",
            "_model_module_version": "1.5.0",
            "_model_name": "ProgressStyleModel",
            "_view_count": null,
            "_view_module": "@jupyter-widgets/base",
            "_view_module_version": "1.2.0",
            "_view_name": "StyleView",
            "bar_color": null,
            "description_width": ""
          }
        },
        "ab7b923e693e4d119d45774861bcb8da": {
          "model_module": "@jupyter-widgets/base",
          "model_name": "LayoutModel",
          "model_module_version": "1.2.0",
          "state": {
            "_model_module": "@jupyter-widgets/base",
            "_model_module_version": "1.2.0",
            "_model_name": "LayoutModel",
            "_view_count": null,
            "_view_module": "@jupyter-widgets/base",
            "_view_module_version": "1.2.0",
            "_view_name": "LayoutView",
            "align_content": null,
            "align_items": null,
            "align_self": null,
            "border": null,
            "bottom": null,
            "display": null,
            "flex": null,
            "flex_flow": null,
            "grid_area": null,
            "grid_auto_columns": null,
            "grid_auto_flow": null,
            "grid_auto_rows": null,
            "grid_column": null,
            "grid_gap": null,
            "grid_row": null,
            "grid_template_areas": null,
            "grid_template_columns": null,
            "grid_template_rows": null,
            "height": null,
            "justify_content": null,
            "justify_items": null,
            "left": null,
            "margin": null,
            "max_height": null,
            "max_width": null,
            "min_height": null,
            "min_width": null,
            "object_fit": null,
            "object_position": null,
            "order": null,
            "overflow": null,
            "overflow_x": null,
            "overflow_y": null,
            "padding": null,
            "right": null,
            "top": null,
            "visibility": null,
            "width": null
          }
        },
        "0beeed9fb1194850a39ab5c18101d80a": {
          "model_module": "@jupyter-widgets/controls",
          "model_name": "DescriptionStyleModel",
          "model_module_version": "1.5.0",
          "state": {
            "_model_module": "@jupyter-widgets/controls",
            "_model_module_version": "1.5.0",
            "_model_name": "DescriptionStyleModel",
            "_view_count": null,
            "_view_module": "@jupyter-widgets/base",
            "_view_module_version": "1.2.0",
            "_view_name": "StyleView",
            "description_width": ""
          }
        },
        "a31bf8a56c294856b72f2debd012408c": {
          "model_module": "@jupyter-widgets/controls",
          "model_name": "HBoxModel",
          "model_module_version": "1.5.0",
          "state": {
            "_dom_classes": [],
            "_model_module": "@jupyter-widgets/controls",
            "_model_module_version": "1.5.0",
            "_model_name": "HBoxModel",
            "_view_count": null,
            "_view_module": "@jupyter-widgets/controls",
            "_view_module_version": "1.5.0",
            "_view_name": "HBoxView",
            "box_style": "",
            "children": [
              "IPY_MODEL_f0e10819864b4265a52ddb1fa4f0055f",
              "IPY_MODEL_7ae8a9002e2a4b988606f1a3315816da",
              "IPY_MODEL_2c1bdcdf8fcb44b0907f07a9b1ecb260"
            ],
            "layout": "IPY_MODEL_db9713384a6c4c36904955fd9f65b736"
          }
        },
        "f0e10819864b4265a52ddb1fa4f0055f": {
          "model_module": "@jupyter-widgets/controls",
          "model_name": "HTMLModel",
          "model_module_version": "1.5.0",
          "state": {
            "_dom_classes": [],
            "_model_module": "@jupyter-widgets/controls",
            "_model_module_version": "1.5.0",
            "_model_name": "HTMLModel",
            "_view_count": null,
            "_view_module": "@jupyter-widgets/controls",
            "_view_module_version": "1.5.0",
            "_view_name": "HTMLView",
            "description": "",
            "description_tooltip": null,
            "layout": "IPY_MODEL_4898259fbd6844ad9af4dfdb981a2067",
            "placeholder": "​",
            "style": "IPY_MODEL_4b2e9b6875d44d0fb68a4bea642f2d80",
            "value": "vocab.txt: 100%"
          }
        },
        "7ae8a9002e2a4b988606f1a3315816da": {
          "model_module": "@jupyter-widgets/controls",
          "model_name": "FloatProgressModel",
          "model_module_version": "1.5.0",
          "state": {
            "_dom_classes": [],
            "_model_module": "@jupyter-widgets/controls",
            "_model_module_version": "1.5.0",
            "_model_name": "FloatProgressModel",
            "_view_count": null,
            "_view_module": "@jupyter-widgets/controls",
            "_view_module_version": "1.5.0",
            "_view_name": "ProgressView",
            "bar_style": "success",
            "description": "",
            "description_tooltip": null,
            "layout": "IPY_MODEL_49133951db9d4dd789c827f2d79119ac",
            "max": 1198122,
            "min": 0,
            "orientation": "horizontal",
            "style": "IPY_MODEL_ff9d76b9fc1746c08028f517bcbac052",
            "value": 1198122
          }
        },
        "2c1bdcdf8fcb44b0907f07a9b1ecb260": {
          "model_module": "@jupyter-widgets/controls",
          "model_name": "HTMLModel",
          "model_module_version": "1.5.0",
          "state": {
            "_dom_classes": [],
            "_model_module": "@jupyter-widgets/controls",
            "_model_module_version": "1.5.0",
            "_model_name": "HTMLModel",
            "_view_count": null,
            "_view_module": "@jupyter-widgets/controls",
            "_view_module_version": "1.5.0",
            "_view_name": "HTMLView",
            "description": "",
            "description_tooltip": null,
            "layout": "IPY_MODEL_09df36b1ce504837971c1df30056e8dc",
            "placeholder": "​",
            "style": "IPY_MODEL_a65bf556931a490dbfcdd889f4f37666",
            "value": " 1.20M/1.20M [00:00&lt;00:00, 6.72MB/s]"
          }
        },
        "db9713384a6c4c36904955fd9f65b736": {
          "model_module": "@jupyter-widgets/base",
          "model_name": "LayoutModel",
          "model_module_version": "1.2.0",
          "state": {
            "_model_module": "@jupyter-widgets/base",
            "_model_module_version": "1.2.0",
            "_model_name": "LayoutModel",
            "_view_count": null,
            "_view_module": "@jupyter-widgets/base",
            "_view_module_version": "1.2.0",
            "_view_name": "LayoutView",
            "align_content": null,
            "align_items": null,
            "align_self": null,
            "border": null,
            "bottom": null,
            "display": null,
            "flex": null,
            "flex_flow": null,
            "grid_area": null,
            "grid_auto_columns": null,
            "grid_auto_flow": null,
            "grid_auto_rows": null,
            "grid_column": null,
            "grid_gap": null,
            "grid_row": null,
            "grid_template_areas": null,
            "grid_template_columns": null,
            "grid_template_rows": null,
            "height": null,
            "justify_content": null,
            "justify_items": null,
            "left": null,
            "margin": null,
            "max_height": null,
            "max_width": null,
            "min_height": null,
            "min_width": null,
            "object_fit": null,
            "object_position": null,
            "order": null,
            "overflow": null,
            "overflow_x": null,
            "overflow_y": null,
            "padding": null,
            "right": null,
            "top": null,
            "visibility": null,
            "width": null
          }
        },
        "4898259fbd6844ad9af4dfdb981a2067": {
          "model_module": "@jupyter-widgets/base",
          "model_name": "LayoutModel",
          "model_module_version": "1.2.0",
          "state": {
            "_model_module": "@jupyter-widgets/base",
            "_model_module_version": "1.2.0",
            "_model_name": "LayoutModel",
            "_view_count": null,
            "_view_module": "@jupyter-widgets/base",
            "_view_module_version": "1.2.0",
            "_view_name": "LayoutView",
            "align_content": null,
            "align_items": null,
            "align_self": null,
            "border": null,
            "bottom": null,
            "display": null,
            "flex": null,
            "flex_flow": null,
            "grid_area": null,
            "grid_auto_columns": null,
            "grid_auto_flow": null,
            "grid_auto_rows": null,
            "grid_column": null,
            "grid_gap": null,
            "grid_row": null,
            "grid_template_areas": null,
            "grid_template_columns": null,
            "grid_template_rows": null,
            "height": null,
            "justify_content": null,
            "justify_items": null,
            "left": null,
            "margin": null,
            "max_height": null,
            "max_width": null,
            "min_height": null,
            "min_width": null,
            "object_fit": null,
            "object_position": null,
            "order": null,
            "overflow": null,
            "overflow_x": null,
            "overflow_y": null,
            "padding": null,
            "right": null,
            "top": null,
            "visibility": null,
            "width": null
          }
        },
        "4b2e9b6875d44d0fb68a4bea642f2d80": {
          "model_module": "@jupyter-widgets/controls",
          "model_name": "DescriptionStyleModel",
          "model_module_version": "1.5.0",
          "state": {
            "_model_module": "@jupyter-widgets/controls",
            "_model_module_version": "1.5.0",
            "_model_name": "DescriptionStyleModel",
            "_view_count": null,
            "_view_module": "@jupyter-widgets/base",
            "_view_module_version": "1.2.0",
            "_view_name": "StyleView",
            "description_width": ""
          }
        },
        "49133951db9d4dd789c827f2d79119ac": {
          "model_module": "@jupyter-widgets/base",
          "model_name": "LayoutModel",
          "model_module_version": "1.2.0",
          "state": {
            "_model_module": "@jupyter-widgets/base",
            "_model_module_version": "1.2.0",
            "_model_name": "LayoutModel",
            "_view_count": null,
            "_view_module": "@jupyter-widgets/base",
            "_view_module_version": "1.2.0",
            "_view_name": "LayoutView",
            "align_content": null,
            "align_items": null,
            "align_self": null,
            "border": null,
            "bottom": null,
            "display": null,
            "flex": null,
            "flex_flow": null,
            "grid_area": null,
            "grid_auto_columns": null,
            "grid_auto_flow": null,
            "grid_auto_rows": null,
            "grid_column": null,
            "grid_gap": null,
            "grid_row": null,
            "grid_template_areas": null,
            "grid_template_columns": null,
            "grid_template_rows": null,
            "height": null,
            "justify_content": null,
            "justify_items": null,
            "left": null,
            "margin": null,
            "max_height": null,
            "max_width": null,
            "min_height": null,
            "min_width": null,
            "object_fit": null,
            "object_position": null,
            "order": null,
            "overflow": null,
            "overflow_x": null,
            "overflow_y": null,
            "padding": null,
            "right": null,
            "top": null,
            "visibility": null,
            "width": null
          }
        },
        "ff9d76b9fc1746c08028f517bcbac052": {
          "model_module": "@jupyter-widgets/controls",
          "model_name": "ProgressStyleModel",
          "model_module_version": "1.5.0",
          "state": {
            "_model_module": "@jupyter-widgets/controls",
            "_model_module_version": "1.5.0",
            "_model_name": "ProgressStyleModel",
            "_view_count": null,
            "_view_module": "@jupyter-widgets/base",
            "_view_module_version": "1.2.0",
            "_view_name": "StyleView",
            "bar_color": null,
            "description_width": ""
          }
        },
        "09df36b1ce504837971c1df30056e8dc": {
          "model_module": "@jupyter-widgets/base",
          "model_name": "LayoutModel",
          "model_module_version": "1.2.0",
          "state": {
            "_model_module": "@jupyter-widgets/base",
            "_model_module_version": "1.2.0",
            "_model_name": "LayoutModel",
            "_view_count": null,
            "_view_module": "@jupyter-widgets/base",
            "_view_module_version": "1.2.0",
            "_view_name": "LayoutView",
            "align_content": null,
            "align_items": null,
            "align_self": null,
            "border": null,
            "bottom": null,
            "display": null,
            "flex": null,
            "flex_flow": null,
            "grid_area": null,
            "grid_auto_columns": null,
            "grid_auto_flow": null,
            "grid_auto_rows": null,
            "grid_column": null,
            "grid_gap": null,
            "grid_row": null,
            "grid_template_areas": null,
            "grid_template_columns": null,
            "grid_template_rows": null,
            "height": null,
            "justify_content": null,
            "justify_items": null,
            "left": null,
            "margin": null,
            "max_height": null,
            "max_width": null,
            "min_height": null,
            "min_width": null,
            "object_fit": null,
            "object_position": null,
            "order": null,
            "overflow": null,
            "overflow_x": null,
            "overflow_y": null,
            "padding": null,
            "right": null,
            "top": null,
            "visibility": null,
            "width": null
          }
        },
        "a65bf556931a490dbfcdd889f4f37666": {
          "model_module": "@jupyter-widgets/controls",
          "model_name": "DescriptionStyleModel",
          "model_module_version": "1.5.0",
          "state": {
            "_model_module": "@jupyter-widgets/controls",
            "_model_module_version": "1.5.0",
            "_model_name": "DescriptionStyleModel",
            "_view_count": null,
            "_view_module": "@jupyter-widgets/base",
            "_view_module_version": "1.2.0",
            "_view_name": "StyleView",
            "description_width": ""
          }
        },
        "095cbba03acd4ee3ab24d94d147e9fa5": {
          "model_module": "@jupyter-widgets/controls",
          "model_name": "HBoxModel",
          "model_module_version": "1.5.0",
          "state": {
            "_dom_classes": [],
            "_model_module": "@jupyter-widgets/controls",
            "_model_module_version": "1.5.0",
            "_model_name": "HBoxModel",
            "_view_count": null,
            "_view_module": "@jupyter-widgets/controls",
            "_view_module_version": "1.5.0",
            "_view_name": "HBoxView",
            "box_style": "",
            "children": [
              "IPY_MODEL_930e4add8bb24b63848128745c15ec82",
              "IPY_MODEL_850e6139436643d3bc8e93e29bb2bb18",
              "IPY_MODEL_02c063122a4b42a9a82deb6efa6fd8ec"
            ],
            "layout": "IPY_MODEL_acd629bcd64a4e94a255fa586d4bb17d"
          }
        },
        "930e4add8bb24b63848128745c15ec82": {
          "model_module": "@jupyter-widgets/controls",
          "model_name": "HTMLModel",
          "model_module_version": "1.5.0",
          "state": {
            "_dom_classes": [],
            "_model_module": "@jupyter-widgets/controls",
            "_model_module_version": "1.5.0",
            "_model_name": "HTMLModel",
            "_view_count": null,
            "_view_module": "@jupyter-widgets/controls",
            "_view_module_version": "1.5.0",
            "_view_name": "HTMLView",
            "description": "",
            "description_tooltip": null,
            "layout": "IPY_MODEL_3e411f51fc344eb2927ee3d56f532c2e",
            "placeholder": "​",
            "style": "IPY_MODEL_5dbd6901d6814325a99f24bd487b1fc8",
            "value": "special_tokens_map.json: 100%"
          }
        },
        "850e6139436643d3bc8e93e29bb2bb18": {
          "model_module": "@jupyter-widgets/controls",
          "model_name": "FloatProgressModel",
          "model_module_version": "1.5.0",
          "state": {
            "_dom_classes": [],
            "_model_module": "@jupyter-widgets/controls",
            "_model_module_version": "1.5.0",
            "_model_name": "FloatProgressModel",
            "_view_count": null,
            "_view_module": "@jupyter-widgets/controls",
            "_view_module_version": "1.5.0",
            "_view_name": "ProgressView",
            "bar_style": "success",
            "description": "",
            "description_tooltip": null,
            "layout": "IPY_MODEL_78de408c04e44a3c80e4fbc99ef1c384",
            "max": 112,
            "min": 0,
            "orientation": "horizontal",
            "style": "IPY_MODEL_8ce1ff0b4d71443287b9e6fa96f84d23",
            "value": 112
          }
        },
        "02c063122a4b42a9a82deb6efa6fd8ec": {
          "model_module": "@jupyter-widgets/controls",
          "model_name": "HTMLModel",
          "model_module_version": "1.5.0",
          "state": {
            "_dom_classes": [],
            "_model_module": "@jupyter-widgets/controls",
            "_model_module_version": "1.5.0",
            "_model_name": "HTMLModel",
            "_view_count": null,
            "_view_module": "@jupyter-widgets/controls",
            "_view_module_version": "1.5.0",
            "_view_name": "HTMLView",
            "description": "",
            "description_tooltip": null,
            "layout": "IPY_MODEL_655fd0b676924081b91d11d33a54653c",
            "placeholder": "​",
            "style": "IPY_MODEL_a143c82c238541aa93177f76fd298404",
            "value": " 112/112 [00:00&lt;00:00, 6.57kB/s]"
          }
        },
        "acd629bcd64a4e94a255fa586d4bb17d": {
          "model_module": "@jupyter-widgets/base",
          "model_name": "LayoutModel",
          "model_module_version": "1.2.0",
          "state": {
            "_model_module": "@jupyter-widgets/base",
            "_model_module_version": "1.2.0",
            "_model_name": "LayoutModel",
            "_view_count": null,
            "_view_module": "@jupyter-widgets/base",
            "_view_module_version": "1.2.0",
            "_view_name": "LayoutView",
            "align_content": null,
            "align_items": null,
            "align_self": null,
            "border": null,
            "bottom": null,
            "display": null,
            "flex": null,
            "flex_flow": null,
            "grid_area": null,
            "grid_auto_columns": null,
            "grid_auto_flow": null,
            "grid_auto_rows": null,
            "grid_column": null,
            "grid_gap": null,
            "grid_row": null,
            "grid_template_areas": null,
            "grid_template_columns": null,
            "grid_template_rows": null,
            "height": null,
            "justify_content": null,
            "justify_items": null,
            "left": null,
            "margin": null,
            "max_height": null,
            "max_width": null,
            "min_height": null,
            "min_width": null,
            "object_fit": null,
            "object_position": null,
            "order": null,
            "overflow": null,
            "overflow_x": null,
            "overflow_y": null,
            "padding": null,
            "right": null,
            "top": null,
            "visibility": null,
            "width": null
          }
        },
        "3e411f51fc344eb2927ee3d56f532c2e": {
          "model_module": "@jupyter-widgets/base",
          "model_name": "LayoutModel",
          "model_module_version": "1.2.0",
          "state": {
            "_model_module": "@jupyter-widgets/base",
            "_model_module_version": "1.2.0",
            "_model_name": "LayoutModel",
            "_view_count": null,
            "_view_module": "@jupyter-widgets/base",
            "_view_module_version": "1.2.0",
            "_view_name": "LayoutView",
            "align_content": null,
            "align_items": null,
            "align_self": null,
            "border": null,
            "bottom": null,
            "display": null,
            "flex": null,
            "flex_flow": null,
            "grid_area": null,
            "grid_auto_columns": null,
            "grid_auto_flow": null,
            "grid_auto_rows": null,
            "grid_column": null,
            "grid_gap": null,
            "grid_row": null,
            "grid_template_areas": null,
            "grid_template_columns": null,
            "grid_template_rows": null,
            "height": null,
            "justify_content": null,
            "justify_items": null,
            "left": null,
            "margin": null,
            "max_height": null,
            "max_width": null,
            "min_height": null,
            "min_width": null,
            "object_fit": null,
            "object_position": null,
            "order": null,
            "overflow": null,
            "overflow_x": null,
            "overflow_y": null,
            "padding": null,
            "right": null,
            "top": null,
            "visibility": null,
            "width": null
          }
        },
        "5dbd6901d6814325a99f24bd487b1fc8": {
          "model_module": "@jupyter-widgets/controls",
          "model_name": "DescriptionStyleModel",
          "model_module_version": "1.5.0",
          "state": {
            "_model_module": "@jupyter-widgets/controls",
            "_model_module_version": "1.5.0",
            "_model_name": "DescriptionStyleModel",
            "_view_count": null,
            "_view_module": "@jupyter-widgets/base",
            "_view_module_version": "1.2.0",
            "_view_name": "StyleView",
            "description_width": ""
          }
        },
        "78de408c04e44a3c80e4fbc99ef1c384": {
          "model_module": "@jupyter-widgets/base",
          "model_name": "LayoutModel",
          "model_module_version": "1.2.0",
          "state": {
            "_model_module": "@jupyter-widgets/base",
            "_model_module_version": "1.2.0",
            "_model_name": "LayoutModel",
            "_view_count": null,
            "_view_module": "@jupyter-widgets/base",
            "_view_module_version": "1.2.0",
            "_view_name": "LayoutView",
            "align_content": null,
            "align_items": null,
            "align_self": null,
            "border": null,
            "bottom": null,
            "display": null,
            "flex": null,
            "flex_flow": null,
            "grid_area": null,
            "grid_auto_columns": null,
            "grid_auto_flow": null,
            "grid_auto_rows": null,
            "grid_column": null,
            "grid_gap": null,
            "grid_row": null,
            "grid_template_areas": null,
            "grid_template_columns": null,
            "grid_template_rows": null,
            "height": null,
            "justify_content": null,
            "justify_items": null,
            "left": null,
            "margin": null,
            "max_height": null,
            "max_width": null,
            "min_height": null,
            "min_width": null,
            "object_fit": null,
            "object_position": null,
            "order": null,
            "overflow": null,
            "overflow_x": null,
            "overflow_y": null,
            "padding": null,
            "right": null,
            "top": null,
            "visibility": null,
            "width": null
          }
        },
        "8ce1ff0b4d71443287b9e6fa96f84d23": {
          "model_module": "@jupyter-widgets/controls",
          "model_name": "ProgressStyleModel",
          "model_module_version": "1.5.0",
          "state": {
            "_model_module": "@jupyter-widgets/controls",
            "_model_module_version": "1.5.0",
            "_model_name": "ProgressStyleModel",
            "_view_count": null,
            "_view_module": "@jupyter-widgets/base",
            "_view_module_version": "1.2.0",
            "_view_name": "StyleView",
            "bar_color": null,
            "description_width": ""
          }
        },
        "655fd0b676924081b91d11d33a54653c": {
          "model_module": "@jupyter-widgets/base",
          "model_name": "LayoutModel",
          "model_module_version": "1.2.0",
          "state": {
            "_model_module": "@jupyter-widgets/base",
            "_model_module_version": "1.2.0",
            "_model_name": "LayoutModel",
            "_view_count": null,
            "_view_module": "@jupyter-widgets/base",
            "_view_module_version": "1.2.0",
            "_view_name": "LayoutView",
            "align_content": null,
            "align_items": null,
            "align_self": null,
            "border": null,
            "bottom": null,
            "display": null,
            "flex": null,
            "flex_flow": null,
            "grid_area": null,
            "grid_auto_columns": null,
            "grid_auto_flow": null,
            "grid_auto_rows": null,
            "grid_column": null,
            "grid_gap": null,
            "grid_row": null,
            "grid_template_areas": null,
            "grid_template_columns": null,
            "grid_template_rows": null,
            "height": null,
            "justify_content": null,
            "justify_items": null,
            "left": null,
            "margin": null,
            "max_height": null,
            "max_width": null,
            "min_height": null,
            "min_width": null,
            "object_fit": null,
            "object_position": null,
            "order": null,
            "overflow": null,
            "overflow_x": null,
            "overflow_y": null,
            "padding": null,
            "right": null,
            "top": null,
            "visibility": null,
            "width": null
          }
        },
        "a143c82c238541aa93177f76fd298404": {
          "model_module": "@jupyter-widgets/controls",
          "model_name": "DescriptionStyleModel",
          "model_module_version": "1.5.0",
          "state": {
            "_model_module": "@jupyter-widgets/controls",
            "_model_module_version": "1.5.0",
            "_model_name": "DescriptionStyleModel",
            "_view_count": null,
            "_view_module": "@jupyter-widgets/base",
            "_view_module_version": "1.2.0",
            "_view_name": "StyleView",
            "description_width": ""
          }
        },
        "4b010a2672114a6ab12cef9e55850ab6": {
          "model_module": "@jupyter-widgets/controls",
          "model_name": "HBoxModel",
          "model_module_version": "1.5.0",
          "state": {
            "_dom_classes": [],
            "_model_module": "@jupyter-widgets/controls",
            "_model_module_version": "1.5.0",
            "_model_name": "HBoxModel",
            "_view_count": null,
            "_view_module": "@jupyter-widgets/controls",
            "_view_module_version": "1.5.0",
            "_view_name": "HBoxView",
            "box_style": "",
            "children": [
              "IPY_MODEL_1469a54d99fa4658be774c58d809844a",
              "IPY_MODEL_736e8c44348643f4ac7c9da1c00a4ac1",
              "IPY_MODEL_2f5db624ee36451789c8c284521a981c"
            ],
            "layout": "IPY_MODEL_4b6dd05ff47b46948231aca40da4bc1f"
          }
        },
        "1469a54d99fa4658be774c58d809844a": {
          "model_module": "@jupyter-widgets/controls",
          "model_name": "HTMLModel",
          "model_module_version": "1.5.0",
          "state": {
            "_dom_classes": [],
            "_model_module": "@jupyter-widgets/controls",
            "_model_module_version": "1.5.0",
            "_model_name": "HTMLModel",
            "_view_count": null,
            "_view_module": "@jupyter-widgets/controls",
            "_view_module_version": "1.5.0",
            "_view_name": "HTMLView",
            "description": "",
            "description_tooltip": null,
            "layout": "IPY_MODEL_c926a3b9daee4b7eae05578d64b8c75f",
            "placeholder": "​",
            "style": "IPY_MODEL_e0559df96a5749da9e28ebdf5b8663c3",
            "value": "pytorch_model.bin: 100%"
          }
        },
        "736e8c44348643f4ac7c9da1c00a4ac1": {
          "model_module": "@jupyter-widgets/controls",
          "model_name": "FloatProgressModel",
          "model_module_version": "1.5.0",
          "state": {
            "_dom_classes": [],
            "_model_module": "@jupyter-widgets/controls",
            "_model_module_version": "1.5.0",
            "_model_name": "FloatProgressModel",
            "_view_count": null,
            "_view_module": "@jupyter-widgets/controls",
            "_view_module_version": "1.5.0",
            "_view_name": "ProgressView",
            "bar_style": "success",
            "description": "",
            "description_tooltip": null,
            "layout": "IPY_MODEL_1dfe12d24898424fa026f4150e421303",
            "max": 651477729,
            "min": 0,
            "orientation": "horizontal",
            "style": "IPY_MODEL_bbcc9d352f8947cab28d15c14da717bd",
            "value": 651477729
          }
        },
        "2f5db624ee36451789c8c284521a981c": {
          "model_module": "@jupyter-widgets/controls",
          "model_name": "HTMLModel",
          "model_module_version": "1.5.0",
          "state": {
            "_dom_classes": [],
            "_model_module": "@jupyter-widgets/controls",
            "_model_module_version": "1.5.0",
            "_model_name": "HTMLModel",
            "_view_count": null,
            "_view_module": "@jupyter-widgets/controls",
            "_view_module_version": "1.5.0",
            "_view_name": "HTMLView",
            "description": "",
            "description_tooltip": null,
            "layout": "IPY_MODEL_28034e8c4cf14a59b30e0583f27b53e7",
            "placeholder": "​",
            "style": "IPY_MODEL_8bc1348813fe49e68070fed0250b7898",
            "value": " 651M/651M [00:06&lt;00:00, 130MB/s]"
          }
        },
        "4b6dd05ff47b46948231aca40da4bc1f": {
          "model_module": "@jupyter-widgets/base",
          "model_name": "LayoutModel",
          "model_module_version": "1.2.0",
          "state": {
            "_model_module": "@jupyter-widgets/base",
            "_model_module_version": "1.2.0",
            "_model_name": "LayoutModel",
            "_view_count": null,
            "_view_module": "@jupyter-widgets/base",
            "_view_module_version": "1.2.0",
            "_view_name": "LayoutView",
            "align_content": null,
            "align_items": null,
            "align_self": null,
            "border": null,
            "bottom": null,
            "display": null,
            "flex": null,
            "flex_flow": null,
            "grid_area": null,
            "grid_auto_columns": null,
            "grid_auto_flow": null,
            "grid_auto_rows": null,
            "grid_column": null,
            "grid_gap": null,
            "grid_row": null,
            "grid_template_areas": null,
            "grid_template_columns": null,
            "grid_template_rows": null,
            "height": null,
            "justify_content": null,
            "justify_items": null,
            "left": null,
            "margin": null,
            "max_height": null,
            "max_width": null,
            "min_height": null,
            "min_width": null,
            "object_fit": null,
            "object_position": null,
            "order": null,
            "overflow": null,
            "overflow_x": null,
            "overflow_y": null,
            "padding": null,
            "right": null,
            "top": null,
            "visibility": null,
            "width": null
          }
        },
        "c926a3b9daee4b7eae05578d64b8c75f": {
          "model_module": "@jupyter-widgets/base",
          "model_name": "LayoutModel",
          "model_module_version": "1.2.0",
          "state": {
            "_model_module": "@jupyter-widgets/base",
            "_model_module_version": "1.2.0",
            "_model_name": "LayoutModel",
            "_view_count": null,
            "_view_module": "@jupyter-widgets/base",
            "_view_module_version": "1.2.0",
            "_view_name": "LayoutView",
            "align_content": null,
            "align_items": null,
            "align_self": null,
            "border": null,
            "bottom": null,
            "display": null,
            "flex": null,
            "flex_flow": null,
            "grid_area": null,
            "grid_auto_columns": null,
            "grid_auto_flow": null,
            "grid_auto_rows": null,
            "grid_column": null,
            "grid_gap": null,
            "grid_row": null,
            "grid_template_areas": null,
            "grid_template_columns": null,
            "grid_template_rows": null,
            "height": null,
            "justify_content": null,
            "justify_items": null,
            "left": null,
            "margin": null,
            "max_height": null,
            "max_width": null,
            "min_height": null,
            "min_width": null,
            "object_fit": null,
            "object_position": null,
            "order": null,
            "overflow": null,
            "overflow_x": null,
            "overflow_y": null,
            "padding": null,
            "right": null,
            "top": null,
            "visibility": null,
            "width": null
          }
        },
        "e0559df96a5749da9e28ebdf5b8663c3": {
          "model_module": "@jupyter-widgets/controls",
          "model_name": "DescriptionStyleModel",
          "model_module_version": "1.5.0",
          "state": {
            "_model_module": "@jupyter-widgets/controls",
            "_model_module_version": "1.5.0",
            "_model_name": "DescriptionStyleModel",
            "_view_count": null,
            "_view_module": "@jupyter-widgets/base",
            "_view_module_version": "1.2.0",
            "_view_name": "StyleView",
            "description_width": ""
          }
        },
        "1dfe12d24898424fa026f4150e421303": {
          "model_module": "@jupyter-widgets/base",
          "model_name": "LayoutModel",
          "model_module_version": "1.2.0",
          "state": {
            "_model_module": "@jupyter-widgets/base",
            "_model_module_version": "1.2.0",
            "_model_name": "LayoutModel",
            "_view_count": null,
            "_view_module": "@jupyter-widgets/base",
            "_view_module_version": "1.2.0",
            "_view_name": "LayoutView",
            "align_content": null,
            "align_items": null,
            "align_self": null,
            "border": null,
            "bottom": null,
            "display": null,
            "flex": null,
            "flex_flow": null,
            "grid_area": null,
            "grid_auto_columns": null,
            "grid_auto_flow": null,
            "grid_auto_rows": null,
            "grid_column": null,
            "grid_gap": null,
            "grid_row": null,
            "grid_template_areas": null,
            "grid_template_columns": null,
            "grid_template_rows": null,
            "height": null,
            "justify_content": null,
            "justify_items": null,
            "left": null,
            "margin": null,
            "max_height": null,
            "max_width": null,
            "min_height": null,
            "min_width": null,
            "object_fit": null,
            "object_position": null,
            "order": null,
            "overflow": null,
            "overflow_x": null,
            "overflow_y": null,
            "padding": null,
            "right": null,
            "top": null,
            "visibility": null,
            "width": null
          }
        },
        "bbcc9d352f8947cab28d15c14da717bd": {
          "model_module": "@jupyter-widgets/controls",
          "model_name": "ProgressStyleModel",
          "model_module_version": "1.5.0",
          "state": {
            "_model_module": "@jupyter-widgets/controls",
            "_model_module_version": "1.5.0",
            "_model_name": "ProgressStyleModel",
            "_view_count": null,
            "_view_module": "@jupyter-widgets/base",
            "_view_module_version": "1.2.0",
            "_view_name": "StyleView",
            "bar_color": null,
            "description_width": ""
          }
        },
        "28034e8c4cf14a59b30e0583f27b53e7": {
          "model_module": "@jupyter-widgets/base",
          "model_name": "LayoutModel",
          "model_module_version": "1.2.0",
          "state": {
            "_model_module": "@jupyter-widgets/base",
            "_model_module_version": "1.2.0",
            "_model_name": "LayoutModel",
            "_view_count": null,
            "_view_module": "@jupyter-widgets/base",
            "_view_module_version": "1.2.0",
            "_view_name": "LayoutView",
            "align_content": null,
            "align_items": null,
            "align_self": null,
            "border": null,
            "bottom": null,
            "display": null,
            "flex": null,
            "flex_flow": null,
            "grid_area": null,
            "grid_auto_columns": null,
            "grid_auto_flow": null,
            "grid_auto_rows": null,
            "grid_column": null,
            "grid_gap": null,
            "grid_row": null,
            "grid_template_areas": null,
            "grid_template_columns": null,
            "grid_template_rows": null,
            "height": null,
            "justify_content": null,
            "justify_items": null,
            "left": null,
            "margin": null,
            "max_height": null,
            "max_width": null,
            "min_height": null,
            "min_width": null,
            "object_fit": null,
            "object_position": null,
            "order": null,
            "overflow": null,
            "overflow_x": null,
            "overflow_y": null,
            "padding": null,
            "right": null,
            "top": null,
            "visibility": null,
            "width": null
          }
        },
        "8bc1348813fe49e68070fed0250b7898": {
          "model_module": "@jupyter-widgets/controls",
          "model_name": "DescriptionStyleModel",
          "model_module_version": "1.5.0",
          "state": {
            "_model_module": "@jupyter-widgets/controls",
            "_model_module_version": "1.5.0",
            "_model_name": "DescriptionStyleModel",
            "_view_count": null,
            "_view_module": "@jupyter-widgets/base",
            "_view_module_version": "1.2.0",
            "_view_name": "StyleView",
            "description_width": ""
          }
        }
      }
    }
  },
  "cells": [
    {
      "cell_type": "markdown",
      "metadata": {
        "id": "2Fd6UwW0x0TL"
      },
      "source": [
        "## HazNERC Statistics"
      ]
    },
    {
      "cell_type": "code",
      "metadata": {
        "colab": {
          "base_uri": "https://localhost:8080/"
        },
        "id": "tjOYlyrEx9es",
        "outputId": "d8ddf01e-180f-403d-f925-b3bf80a88bc0"
      },
      "source": [
        "!git clone https://github.com/ebi-shirinbegi/The-HazNERC.git"
      ],
      "execution_count": null,
      "outputs": [
        {
          "output_type": "stream",
          "name": "stdout",
          "text": [
            "Cloning into 'NER-for-Hazaragi-Dialect-'...\n",
            "remote: Enumerating objects: 35, done.\u001b[K\n",
            "remote: Counting objects: 100% (35/35), done.\u001b[K\n",
            "remote: Compressing objects: 100% (33/33), done.\u001b[K\n",
            "remote: Total 35 (delta 17), reused 0 (delta 0), pack-reused 0\u001b[K\n",
            "Receiving objects: 100% (35/35), 882.75 KiB | 7.68 MiB/s, done.\n",
            "Resolving deltas: 100% (17/17), done.\n"
          ]
        }
      ]
    },
    {
      "cell_type": "code",
      "metadata": {
        "id": "rqN_vPH0x0TS"
      },
      "source": [
        "import os\n",
        "\n",
        "neTokens = []\n",
        "neToken = []\n",
        "with open('NER-for-Hazaragi-Dialect-/train.txt', 'r', encoding='utf-8') as file:\n",
        "    for line_number, line in enumerate(file.readlines()):\n",
        "        if line != '\\n':\n",
        "            neToken.append(line.strip().split('\\t'))\n",
        "        else:\n",
        "            neTokens.append(neToken)\n",
        "            neToken = []\n"
      ],
      "execution_count": null,
      "outputs": []
    },
    {
      "cell_type": "markdown",
      "metadata": {
        "id": "1ZcIkXuOx0TU"
      },
      "source": [
        "### Number of Tokens"
      ]
    },
    {
      "cell_type": "code",
      "metadata": {
        "colab": {
          "base_uri": "https://localhost:8080/"
        },
        "id": "9jxqntVXx0TU",
        "outputId": "69cb82bb-e651-441e-e220-9cabc4591097"
      },
      "source": [
        "len([x for neToken in neTokens for x in neToken ])"
      ],
      "execution_count": null,
      "outputs": [
        {
          "output_type": "execute_result",
          "data": {
            "text/plain": [
              "201364"
            ]
          },
          "metadata": {},
          "execution_count": 4
        }
      ]
    },
    {
      "cell_type": "markdown",
      "metadata": {
        "id": "2X8Q_MYxL4Cq"
      },
      "source": [
        "#### ORG"
      ]
    },
    {
      "cell_type": "code",
      "metadata": {
        "colab": {
          "base_uri": "https://localhost:8080/"
        },
        "id": "Q8wwwFdWx0TV",
        "outputId": "2e86c5ee-4de6-4291-d581-9c6a98ec4fc1"
      },
      "source": [
        "org = [x for neToken in neTokens for x in neToken if 'ORG' in x[1]]\n",
        "org_count = len(org)\n",
        "org_count"
      ],
      "execution_count": null,
      "outputs": [
        {
          "output_type": "execute_result",
          "data": {
            "text/plain": [
              "4406"
            ]
          },
          "metadata": {},
          "execution_count": 5
        }
      ]
    },
    {
      "cell_type": "code",
      "metadata": {
        "id": "Dq_UFOkFMCqK",
        "outputId": "8edb8dd8-682e-4e4c-a655-fdaac3807173",
        "colab": {
          "base_uri": "https://localhost:8080/"
        }
      },
      "source": [
        "import pandas as pd\n",
        "pd.Series([x[0] for x in org]).nunique()"
      ],
      "execution_count": null,
      "outputs": [
        {
          "output_type": "execute_result",
          "data": {
            "text/plain": [
              "1663"
            ]
          },
          "metadata": {},
          "execution_count": 6
        }
      ]
    },
    {
      "cell_type": "markdown",
      "metadata": {
        "id": "QfopOgzAL592"
      },
      "source": [
        "#### PER"
      ]
    },
    {
      "cell_type": "code",
      "metadata": {
        "colab": {
          "base_uri": "https://localhost:8080/"
        },
        "id": "93ZTSIuRx0TV",
        "outputId": "bd1c74f5-f9bf-4786-9eab-4f3988ceaac3"
      },
      "source": [
        "per = [x for neToken in neTokens for x in neToken if 'PER' in x[1]]\n",
        "per_count = len(per)\n",
        "per_count"
      ],
      "execution_count": null,
      "outputs": [
        {
          "output_type": "execute_result",
          "data": {
            "text/plain": [
              "8349"
            ]
          },
          "metadata": {},
          "execution_count": 7
        }
      ]
    },
    {
      "cell_type": "code",
      "metadata": {
        "id": "PDIVgDDdMMrk",
        "outputId": "08b17be7-ec2a-46b8-9e55-01ff54074890",
        "colab": {
          "base_uri": "https://localhost:8080/"
        }
      },
      "source": [
        "pd.Series([x[0] for x in per]).nunique()"
      ],
      "execution_count": null,
      "outputs": [
        {
          "output_type": "execute_result",
          "data": {
            "text/plain": [
              "3580"
            ]
          },
          "metadata": {},
          "execution_count": 8
        }
      ]
    },
    {
      "cell_type": "markdown",
      "metadata": {
        "id": "ml4ekE33L7fo"
      },
      "source": [
        "#### LOC"
      ]
    },
    {
      "cell_type": "code",
      "metadata": {
        "colab": {
          "base_uri": "https://localhost:8080/"
        },
        "id": "DOtfFsigx0TV",
        "outputId": "aeccdf2a-5053-4798-d3c3-a6e0d4f8adff"
      },
      "source": [
        "loc = [x for neToken in neTokens for x in neToken if 'LOC' in x[1]]\n",
        "loc_count = len(loc)\n",
        "loc_count"
      ],
      "execution_count": null,
      "outputs": [
        {
          "output_type": "execute_result",
          "data": {
            "text/plain": [
              "5883"
            ]
          },
          "metadata": {},
          "execution_count": 9
        }
      ]
    },
    {
      "cell_type": "code",
      "metadata": {
        "id": "GII-9fe7MQQn",
        "outputId": "f7596eff-be45-4bc5-f47a-2b32368d297c",
        "colab": {
          "base_uri": "https://localhost:8080/"
        }
      },
      "source": [
        "pd.Series([x[0] for x in loc]).nunique()"
      ],
      "execution_count": null,
      "outputs": [
        {
          "output_type": "execute_result",
          "data": {
            "text/plain": [
              "1742"
            ]
          },
          "metadata": {},
          "execution_count": 10
        }
      ]
    },
    {
      "cell_type": "markdown",
      "metadata": {
        "id": "2CNLEKTZL9Y_"
      },
      "source": [
        "#### NAT"
      ]
    },
    {
      "cell_type": "code",
      "metadata": {
        "colab": {
          "base_uri": "https://localhost:8080/"
        },
        "id": "3MlM8Pcfx0TW",
        "outputId": "f17c1a5e-df3a-401f-f93e-80873cc940ed"
      },
      "source": [
        "nat = [x for neToken in neTokens for x in neToken if 'NAT' in x[1]]\n",
        "nat_count = len(nat)\n",
        "nat_count"
      ],
      "execution_count": null,
      "outputs": [
        {
          "output_type": "execute_result",
          "data": {
            "text/plain": [
              "807"
            ]
          },
          "metadata": {},
          "execution_count": 11
        }
      ]
    },
    {
      "cell_type": "code",
      "metadata": {
        "id": "INw5fICLMSNX",
        "outputId": "9fdc6030-6313-45bc-d746-281362f965dd",
        "colab": {
          "base_uri": "https://localhost:8080/"
        }
      },
      "source": [
        "pd.Series([x[0] for x in nat]).nunique()"
      ],
      "execution_count": null,
      "outputs": [
        {
          "output_type": "execute_result",
          "data": {
            "text/plain": [
              "300"
            ]
          },
          "metadata": {},
          "execution_count": 12
        }
      ]
    },
    {
      "cell_type": "markdown",
      "metadata": {
        "id": "FfknLjyjL-wy"
      },
      "source": [
        "#### EVE"
      ]
    },
    {
      "cell_type": "code",
      "metadata": {
        "colab": {
          "base_uri": "https://localhost:8080/"
        },
        "id": "aGXACX7vx0TW",
        "outputId": "faaaf997-2c2a-4a35-ef66-55464bee5904"
      },
      "source": [
        "eve = [x for neToken in neTokens for x in neToken if 'EVE' in x[1]]\n",
        "eve_count = len(eve)\n",
        "eve_count"
      ],
      "execution_count": null,
      "outputs": [
        {
          "output_type": "execute_result",
          "data": {
            "text/plain": [
              "1015"
            ]
          },
          "metadata": {},
          "execution_count": 13
        }
      ]
    },
    {
      "cell_type": "code",
      "metadata": {
        "id": "yUqfKubYMUBi",
        "outputId": "db0750c0-662d-4696-db9b-b4484d781de4",
        "colab": {
          "base_uri": "https://localhost:8080/"
        }
      },
      "source": [
        "pd.Series([x[0] for x in eve]).nunique()"
      ],
      "execution_count": null,
      "outputs": [
        {
          "output_type": "execute_result",
          "data": {
            "text/plain": [
              "404"
            ]
          },
          "metadata": {},
          "execution_count": 14
        }
      ]
    },
    {
      "cell_type": "markdown",
      "metadata": {
        "id": "TnHdKIg_MABP"
      },
      "source": [
        "####POG"
      ]
    },
    {
      "cell_type": "code",
      "metadata": {
        "colab": {
          "base_uri": "https://localhost:8080/"
        },
        "id": "c0lBfm06x0TW",
        "outputId": "aec72910-f560-4cbd-8278-3c4549967a0a"
      },
      "source": [
        "pog = [x for neToken in neTokens for x in neToken if 'POG' in x[1]]\n",
        "pog_count = len(pog)\n",
        "pog_count"
      ],
      "execution_count": null,
      "outputs": [
        {
          "output_type": "execute_result",
          "data": {
            "text/plain": [
              "506"
            ]
          },
          "metadata": {},
          "execution_count": 15
        }
      ]
    },
    {
      "cell_type": "code",
      "metadata": {
        "id": "T8iTY-r0MWGQ",
        "outputId": "3e1f6a07-a4f6-41e9-a8a2-f73cb751619a",
        "colab": {
          "base_uri": "https://localhost:8080/"
        }
      },
      "source": [
        "pd.Series([x[0] for x in pog]).nunique()"
      ],
      "execution_count": null,
      "outputs": [
        {
          "output_type": "execute_result",
          "data": {
            "text/plain": [
              "234"
            ]
          },
          "metadata": {},
          "execution_count": 16
        }
      ]
    },
    {
      "cell_type": "markdown",
      "metadata": {
        "id": "U25-T94LMYAD"
      },
      "source": [
        "#### Summary"
      ]
    },
    {
      "cell_type": "code",
      "metadata": {
        "colab": {
          "base_uri": "https://localhost:8080/"
        },
        "id": "rJP_IAiABjPW",
        "outputId": "9e722f74-fe8b-4c8a-c4a6-56457493f057"
      },
      "source": [
        "pog_count + eve_count + nat_count + loc_count + per_count + org_count"
      ],
      "execution_count": null,
      "outputs": [
        {
          "output_type": "execute_result",
          "data": {
            "text/plain": [
              "20966"
            ]
          },
          "metadata": {},
          "execution_count": 17
        }
      ]
    },
    {
      "cell_type": "markdown",
      "metadata": {
        "id": "y9waJCRxyR7k"
      },
      "source": [
        "### Classifications"
      ]
    },
    {
      "cell_type": "code",
      "metadata": {
        "id": "KTkkLgxLybAc"
      },
      "source": [
        "!pip install -q transformers"
      ],
      "execution_count": null,
      "outputs": []
    },
    {
      "cell_type": "code",
      "metadata": {
        "id": "eIgS40f5zm3z"
      },
      "source": [
        "from transformers import AutoTokenizer, AutoModelForSequenceClassification, TextClassificationPipeline"
      ],
      "execution_count": null,
      "outputs": []
    },
    {
      "cell_type": "code",
      "metadata": {
        "id": "pMaj_xrzydrM",
        "colab": {
          "base_uri": "https://localhost:8080/",
          "height": 281,
          "referenced_widgets": [
            "94e3c2181ce14483a6b5627d7df76b68",
            "b65576cd6c834184817da25f2cd2e342",
            "942b8e69f41c4c29b93c774b8c114f8e",
            "1d57c97cda8547fd94c1302dec37ce98",
            "2e9b0f07992748fc928adad7e4ea927a",
            "4fa8fd5dc79442208ffc3a7de2887a97",
            "197910b54a7d4231ae0170afecad3f8f",
            "4ddb7ff22e914aa48e91778009977f12",
            "055ce861cdc64c9b9ef60279bb6a4182",
            "96518bb4731e456ca20f9e3cab694ca2",
            "55655494a1d24ee3b509c8f6e57df7f0",
            "94107b754bec4f588b93074821a84d0b",
            "590bdefec8f9441bab4e76d4854c8ab8",
            "81df77fc415f4ac290b99ba9e7527aed",
            "ac12ffc4eb33479eb4ad7fb14e1f80f0",
            "0ffb5ae5898c47fbb8bf9f20d7dba641",
            "30a65bc8ed674ab9af02aa4f2fa6fbc1",
            "ae91675bacdd416c9f9de8cb27917ba0",
            "fbf077f643eb4bab8c3ac42ec03fc53b",
            "afcab9f03e2c4c85a6d68fb39c068790",
            "ab7b923e693e4d119d45774861bcb8da",
            "0beeed9fb1194850a39ab5c18101d80a",
            "a31bf8a56c294856b72f2debd012408c",
            "f0e10819864b4265a52ddb1fa4f0055f",
            "7ae8a9002e2a4b988606f1a3315816da",
            "2c1bdcdf8fcb44b0907f07a9b1ecb260",
            "db9713384a6c4c36904955fd9f65b736",
            "4898259fbd6844ad9af4dfdb981a2067",
            "4b2e9b6875d44d0fb68a4bea642f2d80",
            "49133951db9d4dd789c827f2d79119ac",
            "ff9d76b9fc1746c08028f517bcbac052",
            "09df36b1ce504837971c1df30056e8dc",
            "a65bf556931a490dbfcdd889f4f37666",
            "095cbba03acd4ee3ab24d94d147e9fa5",
            "930e4add8bb24b63848128745c15ec82",
            "850e6139436643d3bc8e93e29bb2bb18",
            "02c063122a4b42a9a82deb6efa6fd8ec",
            "acd629bcd64a4e94a255fa586d4bb17d",
            "3e411f51fc344eb2927ee3d56f532c2e",
            "5dbd6901d6814325a99f24bd487b1fc8",
            "78de408c04e44a3c80e4fbc99ef1c384",
            "8ce1ff0b4d71443287b9e6fa96f84d23",
            "655fd0b676924081b91d11d33a54653c",
            "a143c82c238541aa93177f76fd298404",
            "4b010a2672114a6ab12cef9e55850ab6",
            "1469a54d99fa4658be774c58d809844a",
            "736e8c44348643f4ac7c9da1c00a4ac1",
            "2f5db624ee36451789c8c284521a981c",
            "4b6dd05ff47b46948231aca40da4bc1f",
            "c926a3b9daee4b7eae05578d64b8c75f",
            "e0559df96a5749da9e28ebdf5b8663c3",
            "1dfe12d24898424fa026f4150e421303",
            "bbcc9d352f8947cab28d15c14da717bd",
            "28034e8c4cf14a59b30e0583f27b53e7",
            "8bc1348813fe49e68070fed0250b7898"
          ]
        },
        "outputId": "6adf936c-c4b3-4bda-8792-b58c98447360"
      },
      "source": [
        "tokenizer = AutoTokenizer.from_pretrained(\"HooshvareLab/bert-fa-base-uncased-clf-persiannews\")\n",
        "model = AutoModelForSequenceClassification.from_pretrained(\"HooshvareLab/bert-fa-base-uncased-clf-persiannews\")\n",
        "model.eval()\n",
        "classifier = TextClassificationPipeline(model=model, tokenizer=tokenizer)"
      ],
      "execution_count": null,
      "outputs": [
        {
          "output_type": "stream",
          "name": "stderr",
          "text": [
            "/usr/local/lib/python3.10/dist-packages/huggingface_hub/utils/_token.py:88: UserWarning: \n",
            "The secret `HF_TOKEN` does not exist in your Colab secrets.\n",
            "To authenticate with the Hugging Face Hub, create a token in your settings tab (https://huggingface.co/settings/tokens), set it as secret in your Google Colab and restart your session.\n",
            "You will be able to reuse this secret in all of your notebooks.\n",
            "Please note that authentication is recommended but still optional to access public models or datasets.\n",
            "  warnings.warn(\n"
          ]
        },
        {
          "output_type": "display_data",
          "data": {
            "text/plain": [
              "tokenizer_config.json:   0%|          | 0.00/62.0 [00:00<?, ?B/s]"
            ],
            "application/vnd.jupyter.widget-view+json": {
              "version_major": 2,
              "version_minor": 0,
              "model_id": "94e3c2181ce14483a6b5627d7df76b68"
            }
          },
          "metadata": {}
        },
        {
          "output_type": "display_data",
          "data": {
            "text/plain": [
              "config.json:   0%|          | 0.00/1.44k [00:00<?, ?B/s]"
            ],
            "application/vnd.jupyter.widget-view+json": {
              "version_major": 2,
              "version_minor": 0,
              "model_id": "94107b754bec4f588b93074821a84d0b"
            }
          },
          "metadata": {}
        },
        {
          "output_type": "display_data",
          "data": {
            "text/plain": [
              "vocab.txt:   0%|          | 0.00/1.20M [00:00<?, ?B/s]"
            ],
            "application/vnd.jupyter.widget-view+json": {
              "version_major": 2,
              "version_minor": 0,
              "model_id": "a31bf8a56c294856b72f2debd012408c"
            }
          },
          "metadata": {}
        },
        {
          "output_type": "display_data",
          "data": {
            "text/plain": [
              "special_tokens_map.json:   0%|          | 0.00/112 [00:00<?, ?B/s]"
            ],
            "application/vnd.jupyter.widget-view+json": {
              "version_major": 2,
              "version_minor": 0,
              "model_id": "095cbba03acd4ee3ab24d94d147e9fa5"
            }
          },
          "metadata": {}
        },
        {
          "output_type": "display_data",
          "data": {
            "text/plain": [
              "pytorch_model.bin:   0%|          | 0.00/651M [00:00<?, ?B/s]"
            ],
            "application/vnd.jupyter.widget-view+json": {
              "version_major": 2,
              "version_minor": 0,
              "model_id": "4b010a2672114a6ab12cef9e55850ab6"
            }
          },
          "metadata": {}
        }
      ]
    },
    {
      "cell_type": "code",
      "metadata": {
        "colab": {
          "base_uri": "https://localhost:8080/"
        },
        "id": "Xyb8f9rezlnZ",
        "outputId": "58c1d9fd-3406-4a9a-a45a-733bcced2bd0"
      },
      "source": [
        "classifier('دیروز رافتم د بانک مرکزی یک کوت پیسه یشتوم')"
      ],
      "execution_count": null,
      "outputs": [
        {
          "output_type": "execute_result",
          "data": {
            "text/plain": [
              "[{'label': 'اقتصادی', 'score': 0.9480733275413513}]"
            ]
          },
          "metadata": {},
          "execution_count": 21
        }
      ]
    },
    {
      "cell_type": "code",
      "source": [
        "politics_entities = []\n",
        "economics_entities = []\n",
        "sports_entities = []\n",
        "cultural_entities = []\n",
        "tech_entities = []\n",
        "inter_entities = []\n",
        "health_entities = []\n",
        "society_entities = []\n",
        "\n",
        "for i, neToken in enumerate(neTokens):\n",
        "    if i % 100 == 0:\n",
        "        print(i)\n",
        "        print('politics_counter  : ', len(politics_entities))\n",
        "        print('economics_counter : ', len(economics_entities))\n",
        "        print('sports_counter    : ', len(sports_entities))\n",
        "        print('cultural_counter  : ', len(cultural_entities))\n",
        "        print('tech_counter      : ', len(tech_entities))\n",
        "        print('inter_counter     : ', len(inter_entities))\n",
        "        print('health_counter    : ', len(health_entities))\n",
        "        print('society_counter   : ', len(society_entities))\n",
        "\n",
        "    label = classifier(' '.join([x[0] for x in neToken]))[0]['label']\n",
        "    if label == 'سیاسی':\n",
        "        politics_entities.extend(neToken)\n",
        "    elif label == 'اقتصادی':\n",
        "        economics_entities.extend(neToken)\n",
        "    elif label == 'ورزشی':\n",
        "        sports_entities.extend(neToken)\n",
        "    elif label == 'فرهنگی هنری':\n",
        "        cultural_entities.extend(neToken)\n",
        "    elif label == 'علمی فناوری':\n",
        "        tech_entities.extend(neToken)\n",
        "    elif label == 'بین الملل':\n",
        "        inter_entities.extend(neToken)\n",
        "    elif label == 'پزشکی':\n",
        "        health_entities.extend(neToken)\n",
        "    elif label == 'اجتماعی':\n",
        "        society_entities.extend(neToken)\n",
        "    else:\n",
        "        print(label)\n"
      ],
      "metadata": {
        "colab": {
          "base_uri": "https://localhost:8080/"
        },
        "id": "dOrPROaV_vJ6",
        "outputId": "00641c71-0c7a-4b58-9177-a306203e28c0"
      },
      "execution_count": null,
      "outputs": [
        {
          "output_type": "stream",
          "name": "stdout",
          "text": [
            "0\n",
            "politics_counter  :  0\n",
            "economics_counter :  0\n",
            "sports_counter    :  0\n",
            "cultural_counter  :  0\n",
            "tech_counter      :  0\n",
            "inter_counter     :  0\n",
            "health_counter    :  0\n",
            "society_counter   :  0\n",
            "100\n",
            "politics_counter  :  512\n",
            "economics_counter :  334\n",
            "sports_counter    :  184\n",
            "cultural_counter  :  637\n",
            "tech_counter      :  316\n",
            "inter_counter     :  236\n",
            "health_counter    :  228\n",
            "society_counter   :  410\n",
            "200\n",
            "politics_counter  :  936\n",
            "economics_counter :  565\n",
            "sports_counter    :  467\n",
            "cultural_counter  :  1010\n",
            "tech_counter      :  1062\n",
            "inter_counter     :  497\n",
            "health_counter    :  417\n",
            "society_counter   :  990\n",
            "300\n",
            "politics_counter  :  1405\n",
            "economics_counter :  693\n",
            "sports_counter    :  788\n",
            "cultural_counter  :  1776\n",
            "tech_counter      :  1517\n",
            "inter_counter     :  611\n",
            "health_counter    :  568\n",
            "society_counter   :  1468\n",
            "400\n",
            "politics_counter  :  2146\n",
            "economics_counter :  819\n",
            "sports_counter    :  1061\n",
            "cultural_counter  :  2577\n",
            "tech_counter      :  1702\n",
            "inter_counter     :  834\n",
            "health_counter    :  671\n",
            "society_counter   :  1951\n",
            "500\n",
            "politics_counter  :  2633\n",
            "economics_counter :  1060\n",
            "sports_counter    :  1297\n",
            "cultural_counter  :  3135\n",
            "tech_counter      :  2125\n",
            "inter_counter     :  1021\n",
            "health_counter    :  900\n",
            "society_counter   :  2436\n",
            "600\n",
            "politics_counter  :  3197\n",
            "economics_counter :  1264\n",
            "sports_counter    :  1707\n",
            "cultural_counter  :  3621\n",
            "tech_counter      :  2487\n",
            "inter_counter     :  1120\n",
            "health_counter    :  1123\n",
            "society_counter   :  2995\n",
            "700\n",
            "politics_counter  :  4375\n",
            "economics_counter :  1577\n",
            "sports_counter    :  1921\n",
            "cultural_counter  :  4073\n",
            "tech_counter      :  3087\n",
            "inter_counter     :  1200\n",
            "health_counter    :  1271\n",
            "society_counter   :  3450\n",
            "800\n",
            "politics_counter  :  4721\n",
            "economics_counter :  1670\n",
            "sports_counter    :  2228\n",
            "cultural_counter  :  4855\n",
            "tech_counter      :  3402\n",
            "inter_counter     :  1459\n",
            "health_counter    :  1447\n",
            "society_counter   :  3949\n",
            "900\n",
            "politics_counter  :  5208\n",
            "economics_counter :  2029\n",
            "sports_counter    :  2448\n",
            "cultural_counter  :  5497\n",
            "tech_counter      :  3825\n",
            "inter_counter     :  1569\n",
            "health_counter    :  1664\n",
            "society_counter   :  4471\n",
            "1000\n",
            "politics_counter  :  5577\n",
            "economics_counter :  2338\n",
            "sports_counter    :  2650\n",
            "cultural_counter  :  6131\n",
            "tech_counter      :  4284\n",
            "inter_counter     :  1717\n",
            "health_counter    :  1847\n",
            "society_counter   :  5067\n",
            "1100\n",
            "politics_counter  :  5977\n",
            "economics_counter :  2684\n",
            "sports_counter    :  2886\n",
            "cultural_counter  :  6601\n",
            "tech_counter      :  4905\n",
            "inter_counter     :  1885\n",
            "health_counter    :  1919\n",
            "society_counter   :  5723\n",
            "1200\n",
            "politics_counter  :  6607\n",
            "economics_counter :  2911\n",
            "sports_counter    :  3288\n",
            "cultural_counter  :  7277\n",
            "tech_counter      :  5287\n",
            "inter_counter     :  2191\n",
            "health_counter    :  1981\n",
            "society_counter   :  6183\n",
            "1300\n",
            "politics_counter  :  7051\n",
            "economics_counter :  3009\n",
            "sports_counter    :  3562\n",
            "cultural_counter  :  8086\n",
            "tech_counter      :  5856\n",
            "inter_counter     :  2434\n",
            "health_counter    :  2019\n",
            "society_counter   :  6988\n",
            "1400\n",
            "politics_counter  :  7554\n",
            "economics_counter :  3106\n",
            "sports_counter    :  3925\n",
            "cultural_counter  :  8981\n",
            "tech_counter      :  6223\n",
            "inter_counter     :  2752\n",
            "health_counter    :  2203\n",
            "society_counter   :  7354\n",
            "1500\n",
            "politics_counter  :  8156\n",
            "economics_counter :  3297\n",
            "sports_counter    :  4116\n",
            "cultural_counter  :  9665\n",
            "tech_counter      :  6672\n",
            "inter_counter     :  2947\n",
            "health_counter    :  2431\n",
            "society_counter   :  8072\n",
            "1600\n",
            "politics_counter  :  8843\n",
            "economics_counter :  3551\n",
            "sports_counter    :  4276\n",
            "cultural_counter  :  10636\n",
            "tech_counter      :  7034\n",
            "inter_counter     :  3061\n",
            "health_counter    :  2678\n",
            "society_counter   :  8491\n",
            "1700\n",
            "politics_counter  :  9283\n",
            "economics_counter :  3814\n",
            "sports_counter    :  4419\n",
            "cultural_counter  :  11661\n",
            "tech_counter      :  7350\n",
            "inter_counter     :  3408\n",
            "health_counter    :  2851\n",
            "society_counter   :  8972\n",
            "1800\n",
            "politics_counter  :  9753\n",
            "economics_counter :  3864\n",
            "sports_counter    :  4785\n",
            "cultural_counter  :  12212\n",
            "tech_counter      :  7787\n",
            "inter_counter     :  3589\n",
            "health_counter    :  2929\n",
            "society_counter   :  9887\n",
            "1900\n",
            "politics_counter  :  10126\n",
            "economics_counter :  3989\n",
            "sports_counter    :  5082\n",
            "cultural_counter  :  13200\n",
            "tech_counter      :  8127\n",
            "inter_counter     :  3895\n",
            "health_counter    :  2987\n",
            "society_counter   :  10508\n",
            "2000\n",
            "politics_counter  :  10705\n",
            "economics_counter :  4154\n",
            "sports_counter    :  5340\n",
            "cultural_counter  :  13953\n",
            "tech_counter      :  8595\n",
            "inter_counter     :  4150\n",
            "health_counter    :  3151\n",
            "society_counter   :  11372\n",
            "2100\n",
            "politics_counter  :  11156\n",
            "economics_counter :  4265\n",
            "sports_counter    :  5665\n",
            "cultural_counter  :  14797\n",
            "tech_counter      :  8947\n",
            "inter_counter     :  4482\n",
            "health_counter    :  3267\n",
            "society_counter   :  12071\n",
            "2200\n",
            "politics_counter  :  11498\n",
            "economics_counter :  4621\n",
            "sports_counter    :  5979\n",
            "cultural_counter  :  15519\n",
            "tech_counter      :  9428\n",
            "inter_counter     :  4676\n",
            "health_counter    :  3537\n",
            "society_counter   :  12539\n",
            "2300\n",
            "politics_counter  :  12104\n",
            "economics_counter :  4873\n",
            "sports_counter    :  6252\n",
            "cultural_counter  :  16238\n",
            "tech_counter      :  10114\n",
            "inter_counter     :  4924\n",
            "health_counter    :  3725\n",
            "society_counter   :  12934\n",
            "2400\n",
            "politics_counter  :  12613\n",
            "economics_counter :  4955\n",
            "sports_counter    :  6472\n",
            "cultural_counter  :  16731\n",
            "tech_counter      :  10774\n",
            "inter_counter     :  5121\n",
            "health_counter    :  3928\n",
            "society_counter   :  13607\n",
            "2500\n",
            "politics_counter  :  12953\n",
            "economics_counter :  5051\n",
            "sports_counter    :  6889\n",
            "cultural_counter  :  17514\n",
            "tech_counter      :  11398\n",
            "inter_counter     :  5366\n",
            "health_counter    :  4133\n",
            "society_counter   :  14080\n",
            "2600\n",
            "politics_counter  :  13559\n",
            "economics_counter :  5449\n",
            "sports_counter    :  7187\n",
            "cultural_counter  :  18222\n",
            "tech_counter      :  11730\n",
            "inter_counter     :  5869\n",
            "health_counter    :  4173\n",
            "society_counter   :  14580\n",
            "2700\n",
            "politics_counter  :  14069\n",
            "economics_counter :  5840\n",
            "sports_counter    :  7687\n",
            "cultural_counter  :  18936\n",
            "tech_counter      :  11911\n",
            "inter_counter     :  5947\n",
            "health_counter    :  4340\n",
            "society_counter   :  15284\n",
            "2800\n",
            "politics_counter  :  14440\n",
            "economics_counter :  6102\n",
            "sports_counter    :  7838\n",
            "cultural_counter  :  19952\n",
            "tech_counter      :  12551\n",
            "inter_counter     :  6203\n",
            "health_counter    :  4540\n",
            "society_counter   :  15721\n",
            "2900\n",
            "politics_counter  :  15051\n",
            "economics_counter :  6389\n",
            "sports_counter    :  8217\n",
            "cultural_counter  :  20482\n",
            "tech_counter      :  12987\n",
            "inter_counter     :  6375\n",
            "health_counter    :  4693\n",
            "society_counter   :  16292\n",
            "3000\n",
            "politics_counter  :  15731\n",
            "economics_counter :  6691\n",
            "sports_counter    :  8384\n",
            "cultural_counter  :  21282\n",
            "tech_counter      :  13504\n",
            "inter_counter     :  6586\n",
            "health_counter    :  4866\n",
            "society_counter   :  16845\n",
            "3100\n",
            "politics_counter  :  16374\n",
            "economics_counter :  6890\n",
            "sports_counter    :  8586\n",
            "cultural_counter  :  21878\n",
            "tech_counter      :  13892\n",
            "inter_counter     :  6866\n",
            "health_counter    :  5001\n",
            "society_counter   :  17376\n",
            "3200\n",
            "politics_counter  :  16645\n",
            "economics_counter :  7184\n",
            "sports_counter    :  8796\n",
            "cultural_counter  :  22664\n",
            "tech_counter      :  14458\n",
            "inter_counter     :  7094\n",
            "health_counter    :  5298\n",
            "society_counter   :  18022\n",
            "3300\n",
            "politics_counter  :  17123\n",
            "economics_counter :  7321\n",
            "sports_counter    :  9071\n",
            "cultural_counter  :  23224\n",
            "tech_counter      :  15041\n",
            "inter_counter     :  7415\n",
            "health_counter    :  5481\n",
            "society_counter   :  18601\n",
            "3400\n",
            "politics_counter  :  17706\n",
            "economics_counter :  7555\n",
            "sports_counter    :  9461\n",
            "cultural_counter  :  23978\n",
            "tech_counter      :  15454\n",
            "inter_counter     :  7496\n",
            "health_counter    :  5625\n",
            "society_counter   :  19196\n",
            "3500\n",
            "politics_counter  :  18097\n",
            "economics_counter :  7731\n",
            "sports_counter    :  9753\n",
            "cultural_counter  :  24711\n",
            "tech_counter      :  15882\n",
            "inter_counter     :  7774\n",
            "health_counter    :  5651\n",
            "society_counter   :  19993\n",
            "3600\n",
            "politics_counter  :  18682\n",
            "economics_counter :  8077\n",
            "sports_counter    :  9983\n",
            "cultural_counter  :  25450\n",
            "tech_counter      :  16380\n",
            "inter_counter     :  8047\n",
            "health_counter    :  5692\n",
            "society_counter   :  20574\n",
            "3700\n",
            "politics_counter  :  19159\n",
            "economics_counter :  8181\n",
            "sports_counter    :  10156\n",
            "cultural_counter  :  26209\n",
            "tech_counter      :  17056\n",
            "inter_counter     :  8410\n",
            "health_counter    :  5884\n",
            "society_counter   :  21294\n",
            "3800\n",
            "politics_counter  :  19552\n",
            "economics_counter :  8484\n",
            "sports_counter    :  10526\n",
            "cultural_counter  :  26869\n",
            "tech_counter      :  17583\n",
            "inter_counter     :  8589\n",
            "health_counter    :  6093\n",
            "society_counter   :  21898\n",
            "3900\n",
            "politics_counter  :  20240\n",
            "economics_counter :  8557\n",
            "sports_counter    :  10791\n",
            "cultural_counter  :  27430\n",
            "tech_counter      :  18136\n",
            "inter_counter     :  8605\n",
            "health_counter    :  6245\n",
            "society_counter   :  22654\n",
            "4000\n",
            "politics_counter  :  21041\n",
            "economics_counter :  8775\n",
            "sports_counter    :  11094\n",
            "cultural_counter  :  27932\n",
            "tech_counter      :  18831\n",
            "inter_counter     :  8845\n",
            "health_counter    :  6298\n",
            "society_counter   :  23266\n",
            "4100\n",
            "politics_counter  :  21841\n",
            "economics_counter :  8993\n",
            "sports_counter    :  11335\n",
            "cultural_counter  :  28562\n",
            "tech_counter      :  19180\n",
            "inter_counter     :  9138\n",
            "health_counter    :  6412\n",
            "society_counter   :  24186\n",
            "4200\n",
            "politics_counter  :  22129\n",
            "economics_counter :  9100\n",
            "sports_counter    :  11832\n",
            "cultural_counter  :  29470\n",
            "tech_counter      :  19949\n",
            "inter_counter     :  9457\n",
            "health_counter    :  6557\n",
            "society_counter   :  24563\n",
            "4300\n",
            "politics_counter  :  22493\n",
            "economics_counter :  9310\n",
            "sports_counter    :  12367\n",
            "cultural_counter  :  29966\n",
            "tech_counter      :  20354\n",
            "inter_counter     :  9684\n",
            "health_counter    :  6729\n",
            "society_counter   :  25518\n",
            "4400\n",
            "politics_counter  :  22872\n",
            "economics_counter :  9645\n",
            "sports_counter    :  12587\n",
            "cultural_counter  :  30967\n",
            "tech_counter      :  20876\n",
            "inter_counter     :  9896\n",
            "health_counter    :  6845\n",
            "society_counter   :  26024\n",
            "4500\n",
            "politics_counter  :  23318\n",
            "economics_counter :  10031\n",
            "sports_counter    :  12914\n",
            "cultural_counter  :  31580\n",
            "tech_counter      :  21451\n",
            "inter_counter     :  10037\n",
            "health_counter    :  7069\n",
            "society_counter   :  26565\n",
            "4600\n",
            "politics_counter  :  23701\n",
            "economics_counter :  10244\n",
            "sports_counter    :  12994\n",
            "cultural_counter  :  32164\n",
            "tech_counter      :  22170\n",
            "inter_counter     :  10428\n",
            "health_counter    :  7218\n",
            "society_counter   :  27441\n",
            "4700\n",
            "politics_counter  :  24441\n",
            "economics_counter :  10344\n",
            "sports_counter    :  13322\n",
            "cultural_counter  :  33063\n",
            "tech_counter      :  22434\n",
            "inter_counter     :  10646\n",
            "health_counter    :  7342\n",
            "society_counter   :  28361\n",
            "4800\n",
            "politics_counter  :  24917\n",
            "economics_counter :  10545\n",
            "sports_counter    :  13644\n",
            "cultural_counter  :  33891\n",
            "tech_counter      :  22828\n",
            "inter_counter     :  10861\n",
            "health_counter    :  7446\n",
            "society_counter   :  28998\n",
            "4900\n",
            "politics_counter  :  25758\n",
            "economics_counter :  10856\n",
            "sports_counter    :  13812\n",
            "cultural_counter  :  34478\n",
            "tech_counter      :  23295\n",
            "inter_counter     :  11124\n",
            "health_counter    :  7682\n",
            "society_counter   :  29481\n",
            "5000\n",
            "politics_counter  :  26430\n",
            "economics_counter :  11061\n",
            "sports_counter    :  13960\n",
            "cultural_counter  :  35466\n",
            "tech_counter      :  23755\n",
            "inter_counter     :  11642\n",
            "health_counter    :  7908\n",
            "society_counter   :  30117\n",
            "5100\n",
            "politics_counter  :  26871\n",
            "economics_counter :  11351\n",
            "sports_counter    :  14132\n",
            "cultural_counter  :  36372\n",
            "tech_counter      :  24415\n",
            "inter_counter     :  11941\n",
            "health_counter    :  8009\n",
            "society_counter   :  30986\n",
            "5200\n",
            "politics_counter  :  27354\n",
            "economics_counter :  11813\n",
            "sports_counter    :  14425\n",
            "cultural_counter  :  37164\n",
            "tech_counter      :  24812\n",
            "inter_counter     :  12103\n",
            "health_counter    :  8206\n",
            "society_counter   :  31487\n",
            "5300\n",
            "politics_counter  :  27864\n",
            "economics_counter :  12018\n",
            "sports_counter    :  14739\n",
            "cultural_counter  :  37960\n",
            "tech_counter      :  25485\n",
            "inter_counter     :  12267\n",
            "health_counter    :  8394\n",
            "society_counter   :  32168\n",
            "5400\n",
            "politics_counter  :  28219\n",
            "economics_counter :  12177\n",
            "sports_counter    :  15205\n",
            "cultural_counter  :  38541\n",
            "tech_counter      :  26116\n",
            "inter_counter     :  12545\n",
            "health_counter    :  8548\n",
            "society_counter   :  32741\n",
            "5500\n",
            "politics_counter  :  28689\n",
            "economics_counter :  12529\n",
            "sports_counter    :  15572\n",
            "cultural_counter  :  39205\n",
            "tech_counter      :  26790\n",
            "inter_counter     :  12751\n",
            "health_counter    :  8791\n",
            "society_counter   :  33198\n",
            "5600\n",
            "politics_counter  :  29403\n",
            "economics_counter :  12904\n",
            "sports_counter    :  15719\n",
            "cultural_counter  :  40254\n",
            "tech_counter      :  27202\n",
            "inter_counter     :  12918\n",
            "health_counter    :  9056\n",
            "society_counter   :  33749\n",
            "5700\n",
            "politics_counter  :  29993\n",
            "economics_counter :  13236\n",
            "sports_counter    :  16170\n",
            "cultural_counter  :  40952\n",
            "tech_counter      :  27345\n",
            "inter_counter     :  13002\n",
            "health_counter    :  9316\n",
            "society_counter   :  34258\n",
            "5800\n",
            "politics_counter  :  30585\n",
            "economics_counter :  13373\n",
            "sports_counter    :  16493\n",
            "cultural_counter  :  41572\n",
            "tech_counter      :  28074\n",
            "inter_counter     :  13258\n",
            "health_counter    :  9477\n",
            "society_counter   :  34669\n",
            "5900\n",
            "politics_counter  :  31057\n",
            "economics_counter :  13671\n",
            "sports_counter    :  16562\n",
            "cultural_counter  :  42285\n",
            "tech_counter      :  28738\n",
            "inter_counter     :  13511\n",
            "health_counter    :  9753\n",
            "society_counter   :  35633\n",
            "6000\n",
            "politics_counter  :  31433\n",
            "economics_counter :  13850\n",
            "sports_counter    :  16878\n",
            "cultural_counter  :  42827\n",
            "tech_counter      :  29214\n",
            "inter_counter     :  13747\n",
            "health_counter    :  9944\n",
            "society_counter   :  36449\n",
            "6100\n",
            "politics_counter  :  32037\n",
            "economics_counter :  13987\n",
            "sports_counter    :  17160\n",
            "cultural_counter  :  43628\n",
            "tech_counter      :  29948\n",
            "inter_counter     :  13993\n",
            "health_counter    :  10146\n",
            "society_counter   :  36958\n",
            "6200\n",
            "politics_counter  :  32430\n",
            "economics_counter :  14285\n",
            "sports_counter    :  17258\n",
            "cultural_counter  :  44188\n",
            "tech_counter      :  30558\n",
            "inter_counter     :  14191\n",
            "health_counter    :  10458\n",
            "society_counter   :  37937\n"
          ]
        }
      ]
    },
    {
      "cell_type": "code",
      "source": [
        "import pandas as pd"
      ],
      "metadata": {
        "id": "wliUoZRhDOLB"
      },
      "execution_count": null,
      "outputs": []
    },
    {
      "cell_type": "code",
      "source": [
        "entity_results = pd.Series([\n",
        "    len(politics_entities) + len(inter_entities),\n",
        "    len(economics_entities),\n",
        "    len(sports_entities),\n",
        "    len(cultural_entities),\n",
        "    len(tech_entities),\n",
        "    len(health_entities),\n",
        "    len(society_entities)\n",
        "], index=['سیاسی', 'اقتصادی', 'ورزشی', 'فرهنگ و هنر', 'علمی فناوری', 'پزشکی', 'اجتماعی'])\n"
      ],
      "metadata": {
        "id": "JQ9KvhnLDP_Z"
      },
      "execution_count": null,
      "outputs": []
    },
    {
      "cell_type": "code",
      "source": [
        "entity_results"
      ],
      "metadata": {
        "colab": {
          "base_uri": "https://localhost:8080/"
        },
        "id": "T9BrMN2uDUpy",
        "outputId": "d4eaf5e5-c345-437a-e2dc-7c63dd631d1b"
      },
      "execution_count": null,
      "outputs": [
        {
          "output_type": "execute_result",
          "data": {
            "text/plain": [
              "سیاسی          46621\n",
              "اقتصادی        14285\n",
              "ورزشی          17276\n",
              "فرهنگ و هنر    44188\n",
              "علمی فناوری    30558\n",
              "پزشکی          10499\n",
              "اجتماعی        37937\n",
              "dtype: int64"
            ]
          },
          "metadata": {},
          "execution_count": 25
        }
      ]
    },
    {
      "cell_type": "code",
      "source": [
        "total_count = entity_results.sum()\n",
        "print(\"Total number of counted entities:\", total_count)"
      ],
      "metadata": {
        "colab": {
          "base_uri": "https://localhost:8080/"
        },
        "id": "qYVvQNUJUHXJ",
        "outputId": "74b14968-ba1b-46c8-9dfb-3c3e7c97c530"
      },
      "execution_count": null,
      "outputs": [
        {
          "output_type": "stream",
          "name": "stdout",
          "text": [
            "Total number of counted entities: 201364\n"
          ]
        }
      ]
    },
    {
      "cell_type": "code",
      "source": [
        "import nltk\n",
        "nltk.download('punkt')"
      ],
      "metadata": {
        "colab": {
          "base_uri": "https://localhost:8080/"
        },
        "id": "1vN6FdwR7ghO",
        "outputId": "84fddf0f-08ee-49ee-f5cb-4ec970fe0c58"
      },
      "execution_count": null,
      "outputs": [
        {
          "output_type": "stream",
          "name": "stderr",
          "text": [
            "[nltk_data] Downloading package punkt to /root/nltk_data...\n",
            "[nltk_data]   Unzipping tokenizers/punkt.zip.\n"
          ]
        },
        {
          "output_type": "execute_result",
          "data": {
            "text/plain": [
              "True"
            ]
          },
          "metadata": {},
          "execution_count": 27
        }
      ]
    },
    {
      "cell_type": "code",
      "source": [
        "import nltk\n",
        "import os\n",
        "\n",
        "nltk.download('punkt')\n",
        "corpus_file_path = 'NER-for-Hazaragi-Dialect-/train.txt'\n",
        "\n",
        "if os.path.exists(corpus_file_path):\n",
        "    with open(corpus_file_path, 'r', encoding='utf-8') as file:\n",
        "        corpus_text = file.read()\n",
        "\n",
        "    sentences = nltk.sent_tokenize(corpus_text)\n",
        "    num_sentences = len(sentences)\n",
        "    print(f\"Total Sentences: {num_sentences}\")\n",
        "\n",
        "    neTokens = []\n",
        "    neToken = []\n",
        "    with open(corpus_file_path, 'r', encoding='utf-8') as file:\n",
        "        for line_number, line in enumerate(file.readlines()):\n",
        "            if line != '\\n':\n",
        "                neToken.append(line.strip().split('\\t'))\n",
        "            else:\n",
        "                neTokens.append(neToken)\n",
        "                neToken = []\n",
        "\n",
        "    total_tokens = len([x for neToken in neTokens for x in neToken])\n",
        "    print(f\"Total Tokens: {total_tokens}\")\n",
        "\n",
        "    average_tokens_per_sentence = total_tokens / num_sentences\n",
        "    print(f\"Average Tokens per Sentence: {average_tokens_per_sentence}\")\n",
        "\n",
        "else:\n",
        "    print(\"Corpus file not found.\")\n"
      ],
      "metadata": {
        "colab": {
          "base_uri": "https://localhost:8080/"
        },
        "id": "hJdS5SFE7GC7",
        "outputId": "a956d88e-1ae9-40a3-d353-71470b19b035"
      },
      "execution_count": null,
      "outputs": [
        {
          "output_type": "stream",
          "name": "stderr",
          "text": [
            "[nltk_data] Downloading package punkt to /root/nltk_data...\n",
            "[nltk_data]   Package punkt is already up-to-date!\n"
          ]
        },
        {
          "output_type": "stream",
          "name": "stdout",
          "text": [
            "Total Sentences: 8534\n",
            "Total Tokens: 201364\n",
            "Average Tokens per Sentence: 23.595500351535037\n"
          ]
        }
      ]
    },
    {
      "cell_type": "code",
      "source": [
        "import matplotlib.pyplot as plt\n",
        "\n",
        "english_labels = ['Politics', 'Economics', 'Sports', 'Cultural', 'Technology', 'Health', 'Society']\n",
        "plt.figure(figsize=(10, 6))\n",
        "ax = entity_results.plot(kind='bar', color='skyblue')\n",
        "plt.title('Distribution of Named Entities by Category')\n",
        "plt.xlabel('')\n",
        "plt.ylabel('')\n",
        "plt.xticks(range(len(english_labels)), english_labels, rotation=45, ha='right')\n",
        "plt.tight_layout()\n",
        "\n",
        "plt.show()\n"
      ],
      "metadata": {
        "colab": {
          "base_uri": "https://localhost:8080/",
          "height": 607
        },
        "id": "m3hCYv27P959",
        "outputId": "9c5c0277-2a3a-47fc-e133-1d5c4eb0c4f4"
      },
      "execution_count": null,
      "outputs": [
        {
          "output_type": "display_data",
          "data": {
            "text/plain": [
              "<Figure size 1000x600 with 1 Axes>"
            ],
            "image/png": "[encoded data removed]"
          },
          "metadata": {}
        }
      ]
    },
    {
      "cell_type": "code",
      "source": [
        "import pandas as pd\n",
        "\n",
        "entity_types = ['ORG', 'PER', 'LOC', 'NAT', 'EVE', 'POG']\n",
        "\n",
        "total_counts = [org_count, per_count, loc_count, nat_count, eve_count, pog_count]\n",
        "\n",
        "unique_counts = [1663, 3580, 1742, 300, 404, 234]\n",
        "\n",
        "unique_percentages = [(unique_count / total_count) * 100 for unique_count, total_count in zip(unique_counts, total_counts)]\n",
        "total_tokens = sum(total_counts)\n",
        "total_unique_tokens = sum(unique_counts)\n",
        "\n",
        "data = {\n",
        "    'Entity Type': entity_types + ['Total'],\n",
        "    'Total Tokens': total_counts + [total_tokens],\n",
        "    'Unique Tokens': unique_counts + [total_unique_tokens],\n",
        "    'Unique Tokens %': unique_percentages + ['']\n",
        "}\n",
        "\n",
        "df = pd.DataFrame(data)\n",
        "\n",
        "print(df)\n"
      ],
      "metadata": {
        "colab": {
          "base_uri": "https://localhost:8080/"
        },
        "id": "nxkGSJi9qm6E",
        "outputId": "5a6b2b05-30c4-441c-b288-79131daccf57"
      },
      "execution_count": null,
      "outputs": [
        {
          "output_type": "stream",
          "name": "stdout",
          "text": [
            "  Entity Type  Total Tokens  Unique Tokens Unique Tokens %\n",
            "0         ORG          4406           1663       37.743985\n",
            "1         PER          8349           3580       42.879387\n",
            "2         LOC          5883           1742       29.610743\n",
            "3         NAT           807            300       37.174721\n",
            "4         EVE          1015            404       39.802956\n",
            "5         POG           506            234       46.245059\n",
            "6       Total         20966           7923                \n"
          ]
        }
      ]
    },
    {
      "cell_type": "code",
      "metadata": {
        "id": "vj6eZs40E7J4",
        "colab": {
          "base_uri": "https://localhost:8080/",
          "height": 582
        },
        "outputId": "048faeb9-7bc5-4626-8a0c-1c19f7005be6"
      },
      "source": [
        "import matplotlib.pyplot as plt\n",
        "\n",
        "entity_types = ['ORG', 'PER', 'LOC', 'NAT', 'EVE', 'POG']\n",
        "\n",
        "total_counts = [org_count, per_count, loc_count, nat_count, eve_count, pog_count]\n",
        "\n",
        "unique_counts = [1663, 3580, 1742, 300, 404, 234]\n",
        "\n",
        "fig, ax = plt.subplots(figsize=(10, 6))\n",
        "bar_width = 0.35\n",
        "\n",
        "bars1 = ax.bar(entity_types, total_counts, bar_width)\n",
        "bars2 = ax.bar([x + bar_width for x in range(len(entity_types))], unique_counts, bar_width)\n",
        "\n",
        "for i, (total_count, unique_count) in enumerate(zip(total_counts, unique_counts)):\n",
        "    ax.text(i, total_count + 20, str(total_count), ha='center', va='bottom')\n",
        "    ax.text(i + bar_width, unique_count + 20, str(unique_count), ha='center', va='bottom')\n",
        "\n",
        "plt.title('Distribution of Named Entity Types')\n",
        "plt.xlabel('Entity Type')\n",
        "plt.ylabel('Count')\n",
        "plt.xticks([x + bar_width / 2 for x in range(len(entity_types))], entity_types, rotation=45)\n",
        "plt.legend(['Total Tokens', 'Unique Tokens'])\n",
        "plt.show()"
      ],
      "execution_count": null,
      "outputs": [
        {
          "output_type": "display_data",
          "data": {
            "text/plain": [
              "<Figure size 1000x600 with 1 Axes>"
            ],
            "image/png": "[encoded data removed]"
          },
          "metadata": {}
        }
      ]
    }
  ]
}